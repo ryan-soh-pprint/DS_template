{
 "cells": [
  {
   "cell_type": "code",
   "execution_count": 2,
   "metadata": {},
   "outputs": [],
   "source": [
    "import pandas as pd\n",
    "import numpy as np\n",
    "import matplotlib.pyplot as plt\n",
    "import seaborn as sns\n",
    "\n",
    "from pptoolbox.platform import preprocess, WAVELENGTHS_3NM_V1\n",
    "from pptoolbox.platform.automl_v4 import AutoML_v4\n",
    "\n",
    "from sklearn.preprocessing import LabelEncoder\n",
    "from sklearn.model_selection import cross_val_predict, StratifiedGroupKFold\n",
    "from sklearn.metrics import confusion_matrix, balanced_accuracy_score, f1_score\n",
    "\n",
    "import warnings\n",
    "warnings.simplefilter(\"ignore\")\n",
    "\n",
    "import pickle as pkl\n",
    "\n",
    "pd.set_option(\"display.max_columns\", None)\n",
    "pd.set_option(\"display.width\", None)"
   ]
  },
  {
   "cell_type": "code",
   "execution_count": 3,
   "metadata": {},
   "outputs": [
    {
     "data": {
      "text/plain": [
       "((1036, 11), (330, 8))"
      ]
     },
     "execution_count": 3,
     "metadata": {},
     "output_type": "execute_result"
    }
   ],
   "source": [
    "raw_folder_path = \"../data/raw\"\n",
    "raw_csv = f\"{raw_folder_path}/spectra_241016.csv\"\n",
    "raw_df = pd.read_csv(raw_csv)\n",
    "\n",
    "label_csv = f\"{raw_folder_path}/label_241016.csv\"\n",
    "label_df = pd.read_csv(label_csv)\n",
    "\n",
    "label_df = label_df.pivot(index=['lot_id','lot_name'],columns='property_name',values='property_value').reset_index()\n",
    "\n",
    "raw_df.shape, label_df.shape"
   ]
  },
  {
   "cell_type": "code",
   "execution_count": 92,
   "metadata": {},
   "outputs": [
    {
     "data": {
      "text/html": [
       "<div>\n",
       "<style scoped>\n",
       "    .dataframe tbody tr th:only-of-type {\n",
       "        vertical-align: middle;\n",
       "    }\n",
       "\n",
       "    .dataframe tbody tr th {\n",
       "        vertical-align: top;\n",
       "    }\n",
       "\n",
       "    .dataframe thead th {\n",
       "        text-align: right;\n",
       "    }\n",
       "</style>\n",
       "<table border=\"1\" class=\"dataframe\">\n",
       "  <thead>\n",
       "    <tr style=\"text-align: right;\">\n",
       "      <th>property_name</th>\n",
       "      <th>lot_id</th>\n",
       "      <th>lot_name</th>\n",
       "      <th>BrownSug_Adulteration</th>\n",
       "      <th>Farm</th>\n",
       "      <th>Grade</th>\n",
       "      <th>Mixed_Pure</th>\n",
       "      <th>Preservative</th>\n",
       "      <th>Sugar Type</th>\n",
       "    </tr>\n",
       "  </thead>\n",
       "  <tbody>\n",
       "    <tr>\n",
       "      <th>0</th>\n",
       "      <td>73200</td>\n",
       "      <td>SGProj_Spl-1</td>\n",
       "      <td>PureKD</td>\n",
       "      <td>PNG</td>\n",
       "      <td>A</td>\n",
       "      <td>PureKD</td>\n",
       "      <td>Sulfite</td>\n",
       "      <td>NonDwarf (PureKD)</td>\n",
       "    </tr>\n",
       "    <tr>\n",
       "      <th>1</th>\n",
       "      <td>73201</td>\n",
       "      <td>SGProj_Spl-2</td>\n",
       "      <td>PureKD</td>\n",
       "      <td>PNG</td>\n",
       "      <td>A</td>\n",
       "      <td>PureKD</td>\n",
       "      <td>Sulfite</td>\n",
       "      <td>NonDwarf (PureKD)</td>\n",
       "    </tr>\n",
       "    <tr>\n",
       "      <th>2</th>\n",
       "      <td>73202</td>\n",
       "      <td>SGProj_Spl-3</td>\n",
       "      <td>PureKD</td>\n",
       "      <td>PNG</td>\n",
       "      <td>A</td>\n",
       "      <td>PureKD</td>\n",
       "      <td>Sulfite</td>\n",
       "      <td>NonDwarf (PureKD)</td>\n",
       "    </tr>\n",
       "    <tr>\n",
       "      <th>3</th>\n",
       "      <td>73203</td>\n",
       "      <td>SGProj_Spl-4</td>\n",
       "      <td>PureKD</td>\n",
       "      <td>PNG</td>\n",
       "      <td>A</td>\n",
       "      <td>PureKD</td>\n",
       "      <td>Sulfite</td>\n",
       "      <td>NonDwarf (PureKD)</td>\n",
       "    </tr>\n",
       "    <tr>\n",
       "      <th>4</th>\n",
       "      <td>73204</td>\n",
       "      <td>SGProj_Spl-5</td>\n",
       "      <td>PureKD</td>\n",
       "      <td>PNG</td>\n",
       "      <td>A</td>\n",
       "      <td>PureKD</td>\n",
       "      <td>Sulfite</td>\n",
       "      <td>NonDwarf (PureKD)</td>\n",
       "    </tr>\n",
       "    <tr>\n",
       "      <th>...</th>\n",
       "      <td>...</td>\n",
       "      <td>...</td>\n",
       "      <td>...</td>\n",
       "      <td>...</td>\n",
       "      <td>...</td>\n",
       "      <td>...</td>\n",
       "      <td>...</td>\n",
       "      <td>...</td>\n",
       "    </tr>\n",
       "    <tr>\n",
       "      <th>325</th>\n",
       "      <td>73525</td>\n",
       "      <td>SGProj_Spl-326</td>\n",
       "      <td>PureKD</td>\n",
       "      <td>BW</td>\n",
       "      <td>A3</td>\n",
       "      <td>PureKD</td>\n",
       "      <td>Chalk</td>\n",
       "      <td>NonDwarf (PureKD)</td>\n",
       "    </tr>\n",
       "    <tr>\n",
       "      <th>326</th>\n",
       "      <td>73526</td>\n",
       "      <td>SGProj_Spl-327</td>\n",
       "      <td>PureKD</td>\n",
       "      <td>BW</td>\n",
       "      <td>A3</td>\n",
       "      <td>PureKD</td>\n",
       "      <td>Chalk</td>\n",
       "      <td>NonDwarf (PureKD)</td>\n",
       "    </tr>\n",
       "    <tr>\n",
       "      <th>327</th>\n",
       "      <td>73527</td>\n",
       "      <td>SGProj_Spl-328</td>\n",
       "      <td>PureKD</td>\n",
       "      <td>BW</td>\n",
       "      <td>A3</td>\n",
       "      <td>PureKD</td>\n",
       "      <td>Chalk</td>\n",
       "      <td>NonDwarf (PureKD)</td>\n",
       "    </tr>\n",
       "    <tr>\n",
       "      <th>328</th>\n",
       "      <td>73528</td>\n",
       "      <td>SGProj_Spl-329</td>\n",
       "      <td>PureKD</td>\n",
       "      <td>BW</td>\n",
       "      <td>A3</td>\n",
       "      <td>PureKD</td>\n",
       "      <td>Chalk</td>\n",
       "      <td>NonDwarf (PureKD)</td>\n",
       "    </tr>\n",
       "    <tr>\n",
       "      <th>329</th>\n",
       "      <td>73529</td>\n",
       "      <td>SGProj_Spl-330</td>\n",
       "      <td>PureKD</td>\n",
       "      <td>BW</td>\n",
       "      <td>A3</td>\n",
       "      <td>PureKD</td>\n",
       "      <td>Chalk</td>\n",
       "      <td>NonDwarf (PureKD)</td>\n",
       "    </tr>\n",
       "  </tbody>\n",
       "</table>\n",
       "<p>330 rows × 8 columns</p>\n",
       "</div>"
      ],
      "text/plain": [
       "property_name  lot_id        lot_name BrownSug_Adulteration Farm Grade  \\\n",
       "0               73200    SGProj_Spl-1                PureKD  PNG     A   \n",
       "1               73201    SGProj_Spl-2                PureKD  PNG     A   \n",
       "2               73202    SGProj_Spl-3                PureKD  PNG     A   \n",
       "3               73203    SGProj_Spl-4                PureKD  PNG     A   \n",
       "4               73204    SGProj_Spl-5                PureKD  PNG     A   \n",
       "..                ...             ...                   ...  ...   ...   \n",
       "325             73525  SGProj_Spl-326                PureKD   BW    A3   \n",
       "326             73526  SGProj_Spl-327                PureKD   BW    A3   \n",
       "327             73527  SGProj_Spl-328                PureKD   BW    A3   \n",
       "328             73528  SGProj_Spl-329                PureKD   BW    A3   \n",
       "329             73529  SGProj_Spl-330                PureKD   BW    A3   \n",
       "\n",
       "property_name Mixed_Pure Preservative         Sugar Type  \n",
       "0                 PureKD      Sulfite  NonDwarf (PureKD)  \n",
       "1                 PureKD      Sulfite  NonDwarf (PureKD)  \n",
       "2                 PureKD      Sulfite  NonDwarf (PureKD)  \n",
       "3                 PureKD      Sulfite  NonDwarf (PureKD)  \n",
       "4                 PureKD      Sulfite  NonDwarf (PureKD)  \n",
       "..                   ...          ...                ...  \n",
       "325               PureKD        Chalk  NonDwarf (PureKD)  \n",
       "326               PureKD        Chalk  NonDwarf (PureKD)  \n",
       "327               PureKD        Chalk  NonDwarf (PureKD)  \n",
       "328               PureKD        Chalk  NonDwarf (PureKD)  \n",
       "329               PureKD        Chalk  NonDwarf (PureKD)  \n",
       "\n",
       "[330 rows x 8 columns]"
      ]
     },
     "execution_count": 92,
     "metadata": {},
     "output_type": "execute_result"
    }
   ],
   "source": [
    "label_df "
   ]
  },
  {
   "cell_type": "markdown",
   "metadata": {},
   "source": [
    "# train-test split by date"
   ]
  },
  {
   "cell_type": "code",
   "execution_count": 4,
   "metadata": {},
   "outputs": [
    {
     "data": {
      "text/plain": [
       "((940, 11), (96, 11))"
      ]
     },
     "execution_count": 4,
     "metadata": {},
     "output_type": "execute_result"
    }
   ],
   "source": [
    "val_df = raw_df[raw_df['date_scanned'] > 1727654400]\n",
    "raw_df = raw_df[raw_df['date_scanned'] < 1727654400]\n",
    "raw_df.shape, val_df.shape"
   ]
  },
  {
   "cell_type": "code",
   "execution_count": 5,
   "metadata": {},
   "outputs": [
    {
     "data": {
      "text/plain": [
       "((940, 191), (940, 1))"
      ]
     },
     "execution_count": 5,
     "metadata": {},
     "output_type": "execute_result"
    }
   ],
   "source": [
    "label_df = label_df.drop(columns = ['lot_name','BrownSug_Adulteration','Farm','Mixed_Pure','Preservative','Sugar Type'])\n",
    "\n",
    "X_train, y_train = preprocess(raw_df, label_df,  wavelengths=WAVELENGTHS_3NM_V1)\n",
    "\n",
    "X_train.shape, y_train.shape"
   ]
  },
  {
   "cell_type": "markdown",
   "metadata": {},
   "source": [
    "# Classify"
   ]
  },
  {
   "cell_type": "code",
   "execution_count": 6,
   "metadata": {},
   "outputs": [
    {
     "data": {
      "text/plain": [
       "((940, 191), (940,))"
      ]
     },
     "execution_count": 6,
     "metadata": {},
     "output_type": "execute_result"
    }
   ],
   "source": [
    "encoder = LabelEncoder()\n",
    "y_train_encoded = pd.Series(\n",
    "    encoder.fit_transform(y_train),\n",
    "    index = y_train.index\n",
    ")\n",
    "\n",
    "pkl.dump(encoder, open(\"../model/encoder.pkl\", \"wb\"))\n",
    "\n",
    "X_train.shape, y_train_encoded.shape"
   ]
  },
  {
   "cell_type": "code",
   "execution_count": 96,
   "metadata": {},
   "outputs": [
    {
     "name": "stdout",
     "output_type": "stream",
     "text": [
      " 80%|████████  | 160/200 [02:14<00:33,  1.19trial/s, best loss: 0.14484126984126988]\n"
     ]
    }
   ],
   "source": [
    "trainer = AutoML_v4(task_type = \"classify\")\n",
    "trainer.fit(X_train, y_train_encoded)\n",
    "pkl.dump(trainer, open(\n",
    "    \"../model/trainer.pkl\", \"wb\"\n",
    "))"
   ]
  },
  {
   "cell_type": "code",
   "execution_count": 97,
   "metadata": {},
   "outputs": [
    {
     "data": {
      "text/plain": [
       "{'state': 2,\n",
       " 'tid': 84,\n",
       " 'spec': None,\n",
       " 'result': {'loss': 0.14484126984126988,\n",
       "  'cv_results': {'train_balanced_accuracy': 0.9198204940793252,\n",
       "   'test_balanced_accuracy': 0.8551587301587301,\n",
       "   'train_f1_micro': 0.8946832979476292,\n",
       "   'test_f1_micro': 0.8554581845721086,\n",
       "   'train_precision_micro': 0.8946832979476292,\n",
       "   'test_precision_micro': 0.8554581845721086,\n",
       "   'train_recall_micro': 0.8946832979476292,\n",
       "   'test_recall_micro': 0.8554581845721086},\n",
       "  'time_taken': 0.7388765811920166,\n",
       "  'pipeline': Pipeline(steps=[('SG2D', SavitzkyGolay(deriv=2, window=17)),\n",
       "                  ('Scaler', StandardScaler(with_std=False)),\n",
       "                  ('PCA', PCA(n_components=18, random_state=42)),\n",
       "                  ('QDA', QuadraticDiscriminantAnalysis())]),\n",
       "  'status': 'ok',\n",
       "  'exception': None},\n",
       " 'misc': {'tid': 84,\n",
       "  'cmd': ('domain_attachment', 'FMinIter_Domain'),\n",
       "  'workdir': None,\n",
       "  'idxs': {'C': [],\n",
       "   'alpha': [],\n",
       "   'ccp_alpha': [],\n",
       "   'classifier': [84],\n",
       "   'dimred_choice': [],\n",
       "   'kernel': [],\n",
       "   'l1_ratio': [],\n",
       "   'max_depth': [],\n",
       "   'max_depth_gt_0': [],\n",
       "   'n_components': [84],\n",
       "   'preprocessing': [84],\n",
       "   'window': [84]},\n",
       "  'vals': {'C': [],\n",
       "   'alpha': [],\n",
       "   'ccp_alpha': [],\n",
       "   'classifier': [6],\n",
       "   'dimred_choice': [],\n",
       "   'kernel': [],\n",
       "   'l1_ratio': [],\n",
       "   'max_depth': [],\n",
       "   'max_depth_gt_0': [],\n",
       "   'n_components': [18.0],\n",
       "   'preprocessing': [3],\n",
       "   'window': [5]}},\n",
       " 'exp_key': None,\n",
       " 'owner': None,\n",
       " 'version': 0,\n",
       " 'book_time': datetime.datetime(2024, 10, 22, 12, 46, 30, 974000),\n",
       " 'refresh_time': datetime.datetime(2024, 10, 22, 12, 46, 31, 721000)}"
      ]
     },
     "execution_count": 97,
     "metadata": {},
     "output_type": "execute_result"
    }
   ],
   "source": [
    "trainer.get_best_trial()"
   ]
  },
  {
   "cell_type": "code",
   "execution_count": 98,
   "metadata": {},
   "outputs": [
    {
     "data": {
      "text/html": [
       "<style>#sk-container-id-4 {color: black;}#sk-container-id-4 pre{padding: 0;}#sk-container-id-4 div.sk-toggleable {background-color: white;}#sk-container-id-4 label.sk-toggleable__label {cursor: pointer;display: block;width: 100%;margin-bottom: 0;padding: 0.3em;box-sizing: border-box;text-align: center;}#sk-container-id-4 label.sk-toggleable__label-arrow:before {content: \"▸\";float: left;margin-right: 0.25em;color: #696969;}#sk-container-id-4 label.sk-toggleable__label-arrow:hover:before {color: black;}#sk-container-id-4 div.sk-estimator:hover label.sk-toggleable__label-arrow:before {color: black;}#sk-container-id-4 div.sk-toggleable__content {max-height: 0;max-width: 0;overflow: hidden;text-align: left;background-color: #f0f8ff;}#sk-container-id-4 div.sk-toggleable__content pre {margin: 0.2em;color: black;border-radius: 0.25em;background-color: #f0f8ff;}#sk-container-id-4 input.sk-toggleable__control:checked~div.sk-toggleable__content {max-height: 200px;max-width: 100%;overflow: auto;}#sk-container-id-4 input.sk-toggleable__control:checked~label.sk-toggleable__label-arrow:before {content: \"▾\";}#sk-container-id-4 div.sk-estimator input.sk-toggleable__control:checked~label.sk-toggleable__label {background-color: #d4ebff;}#sk-container-id-4 div.sk-label input.sk-toggleable__control:checked~label.sk-toggleable__label {background-color: #d4ebff;}#sk-container-id-4 input.sk-hidden--visually {border: 0;clip: rect(1px 1px 1px 1px);clip: rect(1px, 1px, 1px, 1px);height: 1px;margin: -1px;overflow: hidden;padding: 0;position: absolute;width: 1px;}#sk-container-id-4 div.sk-estimator {font-family: monospace;background-color: #f0f8ff;border: 1px dotted black;border-radius: 0.25em;box-sizing: border-box;margin-bottom: 0.5em;}#sk-container-id-4 div.sk-estimator:hover {background-color: #d4ebff;}#sk-container-id-4 div.sk-parallel-item::after {content: \"\";width: 100%;border-bottom: 1px solid gray;flex-grow: 1;}#sk-container-id-4 div.sk-label:hover label.sk-toggleable__label {background-color: #d4ebff;}#sk-container-id-4 div.sk-serial::before {content: \"\";position: absolute;border-left: 1px solid gray;box-sizing: border-box;top: 0;bottom: 0;left: 50%;z-index: 0;}#sk-container-id-4 div.sk-serial {display: flex;flex-direction: column;align-items: center;background-color: white;padding-right: 0.2em;padding-left: 0.2em;position: relative;}#sk-container-id-4 div.sk-item {position: relative;z-index: 1;}#sk-container-id-4 div.sk-parallel {display: flex;align-items: stretch;justify-content: center;background-color: white;position: relative;}#sk-container-id-4 div.sk-item::before, #sk-container-id-4 div.sk-parallel-item::before {content: \"\";position: absolute;border-left: 1px solid gray;box-sizing: border-box;top: 0;bottom: 0;left: 50%;z-index: -1;}#sk-container-id-4 div.sk-parallel-item {display: flex;flex-direction: column;z-index: 1;position: relative;background-color: white;}#sk-container-id-4 div.sk-parallel-item:first-child::after {align-self: flex-end;width: 50%;}#sk-container-id-4 div.sk-parallel-item:last-child::after {align-self: flex-start;width: 50%;}#sk-container-id-4 div.sk-parallel-item:only-child::after {width: 0;}#sk-container-id-4 div.sk-dashed-wrapped {border: 1px dashed gray;margin: 0 0.4em 0.5em 0.4em;box-sizing: border-box;padding-bottom: 0.4em;background-color: white;}#sk-container-id-4 div.sk-label label {font-family: monospace;font-weight: bold;display: inline-block;line-height: 1.2em;}#sk-container-id-4 div.sk-label-container {text-align: center;}#sk-container-id-4 div.sk-container {/* jupyter's `normalize.less` sets `[hidden] { display: none; }` but bootstrap.min.css set `[hidden] { display: none !important; }` so we also need the `!important` here to be able to override the default hidden behavior on the sphinx rendered scikit-learn.org. See: https://github.com/scikit-learn/scikit-learn/issues/21755 */display: inline-block !important;position: relative;}#sk-container-id-4 div.sk-text-repr-fallback {display: none;}</style><div id=\"sk-container-id-4\" class=\"sk-top-container\"><div class=\"sk-text-repr-fallback\"><pre>Pipeline(steps=[(&#x27;SG2D&#x27;, SavitzkyGolay(deriv=2, window=17)),\n",
       "                (&#x27;Scaler&#x27;, StandardScaler(with_std=False)),\n",
       "                (&#x27;PCA&#x27;, PCA(n_components=18, random_state=42)),\n",
       "                (&#x27;QDA&#x27;, QuadraticDiscriminantAnalysis())])</pre><b>In a Jupyter environment, please rerun this cell to show the HTML representation or trust the notebook. <br />On GitHub, the HTML representation is unable to render, please try loading this page with nbviewer.org.</b></div><div class=\"sk-container\" hidden><div class=\"sk-item sk-dashed-wrapped\"><div class=\"sk-label-container\"><div class=\"sk-label sk-toggleable\"><input class=\"sk-toggleable__control sk-hidden--visually\" id=\"sk-estimator-id-16\" type=\"checkbox\" ><label for=\"sk-estimator-id-16\" class=\"sk-toggleable__label sk-toggleable__label-arrow\">Pipeline</label><div class=\"sk-toggleable__content\"><pre>Pipeline(steps=[(&#x27;SG2D&#x27;, SavitzkyGolay(deriv=2, window=17)),\n",
       "                (&#x27;Scaler&#x27;, StandardScaler(with_std=False)),\n",
       "                (&#x27;PCA&#x27;, PCA(n_components=18, random_state=42)),\n",
       "                (&#x27;QDA&#x27;, QuadraticDiscriminantAnalysis())])</pre></div></div></div><div class=\"sk-serial\"><div class=\"sk-item\"><div class=\"sk-estimator sk-toggleable\"><input class=\"sk-toggleable__control sk-hidden--visually\" id=\"sk-estimator-id-17\" type=\"checkbox\" ><label for=\"sk-estimator-id-17\" class=\"sk-toggleable__label sk-toggleable__label-arrow\">SavitzkyGolay</label><div class=\"sk-toggleable__content\"><pre>SavitzkyGolay(deriv=2, window=17)</pre></div></div></div><div class=\"sk-item\"><div class=\"sk-estimator sk-toggleable\"><input class=\"sk-toggleable__control sk-hidden--visually\" id=\"sk-estimator-id-18\" type=\"checkbox\" ><label for=\"sk-estimator-id-18\" class=\"sk-toggleable__label sk-toggleable__label-arrow\">StandardScaler</label><div class=\"sk-toggleable__content\"><pre>StandardScaler(with_std=False)</pre></div></div></div><div class=\"sk-item\"><div class=\"sk-estimator sk-toggleable\"><input class=\"sk-toggleable__control sk-hidden--visually\" id=\"sk-estimator-id-19\" type=\"checkbox\" ><label for=\"sk-estimator-id-19\" class=\"sk-toggleable__label sk-toggleable__label-arrow\">PCA</label><div class=\"sk-toggleable__content\"><pre>PCA(n_components=18, random_state=42)</pre></div></div></div><div class=\"sk-item\"><div class=\"sk-estimator sk-toggleable\"><input class=\"sk-toggleable__control sk-hidden--visually\" id=\"sk-estimator-id-20\" type=\"checkbox\" ><label for=\"sk-estimator-id-20\" class=\"sk-toggleable__label sk-toggleable__label-arrow\">QuadraticDiscriminantAnalysis</label><div class=\"sk-toggleable__content\"><pre>QuadraticDiscriminantAnalysis()</pre></div></div></div></div></div></div></div>"
      ],
      "text/plain": [
       "Pipeline(steps=[('SG2D', SavitzkyGolay(deriv=2, window=17)),\n",
       "                ('Scaler', StandardScaler(with_std=False)),\n",
       "                ('PCA', PCA(n_components=18, random_state=42)),\n",
       "                ('QDA', QuadraticDiscriminantAnalysis())])"
      ]
     },
     "execution_count": 98,
     "metadata": {},
     "output_type": "execute_result"
    }
   ],
   "source": [
    "trainer.get_pipeline()"
   ]
  },
  {
   "cell_type": "code",
   "execution_count": 7,
   "metadata": {},
   "outputs": [],
   "source": [
    "trainer=pkl.load(open('../model/trainer.pkl','rb'))"
   ]
  },
  {
   "cell_type": "markdown",
   "metadata": {},
   "source": [
    "# training metrics"
   ]
  },
  {
   "cell_type": "code",
   "execution_count": 13,
   "metadata": {},
   "outputs": [],
   "source": [
    "grouped_X = X_train.groupby(X_train.index).mean()\n",
    "grouped_y = y_train_encoded.groupby(y_train_encoded.index).mean()\n",
    "\n",
    "train_pred = trainer.predict(grouped_X)"
   ]
  },
  {
   "cell_type": "code",
   "execution_count": 16,
   "metadata": {},
   "outputs": [
    {
     "data": {
      "image/png": "[encoded data removed]",
      "text/plain": [
       "<Figure size 600x400 with 1 Axes>"
      ]
     },
     "metadata": {},
     "output_type": "display_data"
    }
   ],
   "source": [
    "cnfm = confusion_matrix(grouped_y, train_pred)\n",
    "bal_acc = balanced_accuracy_score(grouped_y, train_pred)\n",
    "\n",
    "fig = plt.figure(figsize = (6, 4))\n",
    "fig.suptitle(\"Training Metrics\")\n",
    "ax = fig.add_subplot(111)\n",
    "\n",
    "cnfm_settings = {\n",
    "    \"cmap\": \"Blues\",\n",
    "    \"cbar\": None,\n",
    "    \"annot\": True,\n",
    "    \"fmt\": \".0f\",\n",
    "    \"xticklabels\": encoder.classes_,\n",
    "    \"yticklabels\": encoder.classes_,\n",
    "}\n",
    "\n",
    "ax.set_title(f\"Bal. Acc: {bal_acc*100:.2f}%\")\n",
    "sns.heatmap(\n",
    "    cnfm,\n",
    "    ax = ax,\n",
    "    **cnfm_settings\n",
    ")\n",
    "\n",
    "ax.set_xlabel('Predicted')\n",
    "ax.set_ylabel('Actual')\n",
    "# plt.tight_layout()\n",
    "plt.show()"
   ]
  },
  {
   "cell_type": "code",
   "execution_count": 25,
   "metadata": {},
   "outputs": [
    {
     "data": {
      "text/plain": [
       "array([0.85416667, 0.92307692, 0.84444444, 0.91176471])"
      ]
     },
     "execution_count": 25,
     "metadata": {},
     "output_type": "execute_result"
    }
   ],
   "source": [
    "\n",
    "f1score = f1_score(grouped_y, train_pred, average=None, labels=encoder.transform(list(encoder.classes_)))\n",
    "f1score"
   ]
  },
  {
   "cell_type": "markdown",
   "metadata": {},
   "source": [
    "# cross val predict"
   ]
  },
  {
   "cell_type": "code",
   "execution_count": 101,
   "metadata": {},
   "outputs": [],
   "source": [
    "# kfold = StratifiedGroupKFold(n_splits = 3)\n",
    "# cv_pred = cross_val_predict(\n",
    "#     trainer.get_pipeline(),\n",
    "#     grouped_X,\n",
    "#     grouped_y,\n",
    "#     cv = kfold,\n",
    "#     groups = grouped_X.index\n",
    "# )"
   ]
  },
  {
   "cell_type": "code",
   "execution_count": 102,
   "metadata": {},
   "outputs": [],
   "source": [
    "# cnfm = confusion_matrix(grouped_y, cv_pred)\n",
    "# bal_acc = balanced_accuracy_score(grouped_y, cv_pred)\n",
    "\n",
    "# fig = plt.figure(figsize = (6, 4))\n",
    "# fig.suptitle(\"Cross Validation Metrics\")\n",
    "# ax = fig.add_subplot(111)\n",
    "\n",
    "# ax.set_title(f\"Bal. Acc: {bal_acc*100:.2f}%\")\n",
    "\n",
    "# cnfm_settings = {\n",
    "#     \"cmap\": \"Blues\",\n",
    "#     \"cbar\": None,\n",
    "#     \"annot\": True,\n",
    "#     \"fmt\": \".0f\",\n",
    "#     \"xticklabels\": encoder.classes_,\n",
    "#     \"yticklabels\": encoder.classes_,\n",
    "# }\n",
    "\n",
    "# sns.heatmap(\n",
    "#     cnfm,\n",
    "#     ax = ax,\n",
    "#     **cnfm_settings\n",
    "# )\n",
    "\n",
    "# ax.set_xlabel('Predicted')\n",
    "# ax.set_ylabel('Actual')\n",
    "\n",
    "# # plt.tight_layout()\n",
    "# plt.show()"
   ]
  },
  {
   "cell_type": "markdown",
   "metadata": {},
   "source": [
    "# blinds predict"
   ]
  },
  {
   "cell_type": "code",
   "execution_count": 17,
   "metadata": {},
   "outputs": [
    {
     "data": {
      "text/plain": [
       "((96, 191), (96, 1))"
      ]
     },
     "execution_count": 17,
     "metadata": {},
     "output_type": "execute_result"
    }
   ],
   "source": [
    "X_val, y_val = preprocess(val_df, label_df,  wavelengths=WAVELENGTHS_3NM_V1)\n",
    "\n",
    "X_val.shape, y_val.shape"
   ]
  },
  {
   "cell_type": "code",
   "execution_count": 18,
   "metadata": {},
   "outputs": [],
   "source": [
    "y_val_encoded = pd.Series(\n",
    "    encoder.transform(y_val),\n",
    "    index = y_val.index\n",
    ")\n",
    "\n",
    "grouped_X_val = X_val.groupby(X_val.index).mean()\n",
    "grouped_y_val = y_val_encoded.groupby(y_val_encoded.index).mean()\n",
    "\n",
    "val_pred = trainer.predict(grouped_X_val)"
   ]
  },
  {
   "cell_type": "code",
   "execution_count": 19,
   "metadata": {},
   "outputs": [
    {
     "data": {
      "image/png": "[encoded data removed]",
      "text/plain": [
       "<Figure size 600x400 with 1 Axes>"
      ]
     },
     "metadata": {},
     "output_type": "display_data"
    }
   ],
   "source": [
    "cnfm = confusion_matrix(grouped_y_val, val_pred, labels = encoder.transform(list(encoder.classes_)))\n",
    "bal_acc = balanced_accuracy_score(grouped_y_val, val_pred)\n",
    "\n",
    "fig = plt.figure(figsize = (6, 4))\n",
    "fig.suptitle(\"Blinds Metrics\")\n",
    "ax = fig.add_subplot(111)\n",
    "\n",
    "ax.set_title(f\"Bal. Acc: {bal_acc*100:.2f}%\")\n",
    "\n",
    "cnfm_settings = {\n",
    "    \"cmap\": \"Blues\",\n",
    "    \"cbar\": None,\n",
    "    \"annot\": True,\n",
    "    \"fmt\": \".0f\",\n",
    "    \"xticklabels\": encoder.classes_,\n",
    "    \"yticklabels\": encoder.classes_,\n",
    "}\n",
    "\n",
    "sns.heatmap(\n",
    "    cnfm,\n",
    "    ax = ax,\n",
    "    **cnfm_settings\n",
    ")\n",
    "\n",
    "ax.set_xlabel('Predicted')\n",
    "ax.set_ylabel('Actual')\n",
    "\n",
    "# plt.tight_layout()\n",
    "plt.show()"
   ]
  },
  {
   "cell_type": "code",
   "execution_count": 107,
   "metadata": {},
   "outputs": [
    {
     "data": {
      "text/html": [
       "<div>\n",
       "<style scoped>\n",
       "    .dataframe tbody tr th:only-of-type {\n",
       "        vertical-align: middle;\n",
       "    }\n",
       "\n",
       "    .dataframe tbody tr th {\n",
       "        vertical-align: top;\n",
       "    }\n",
       "\n",
       "    .dataframe thead th {\n",
       "        text-align: right;\n",
       "    }\n",
       "</style>\n",
       "<table border=\"1\" class=\"dataframe\">\n",
       "  <thead>\n",
       "    <tr style=\"text-align: right;\">\n",
       "      <th></th>\n",
       "      <th>A</th>\n",
       "      <th>A1</th>\n",
       "      <th>A2</th>\n",
       "      <th>A3</th>\n",
       "    </tr>\n",
       "  </thead>\n",
       "  <tbody>\n",
       "    <tr>\n",
       "      <th>A</th>\n",
       "      <td>82</td>\n",
       "      <td>4</td>\n",
       "      <td>8</td>\n",
       "      <td>11</td>\n",
       "    </tr>\n",
       "    <tr>\n",
       "      <th>A1</th>\n",
       "      <td>0</td>\n",
       "      <td>24</td>\n",
       "      <td>0</td>\n",
       "      <td>0</td>\n",
       "    </tr>\n",
       "    <tr>\n",
       "      <th>A2</th>\n",
       "      <td>5</td>\n",
       "      <td>0</td>\n",
       "      <td>38</td>\n",
       "      <td>1</td>\n",
       "    </tr>\n",
       "    <tr>\n",
       "      <th>A3</th>\n",
       "      <td>0</td>\n",
       "      <td>0</td>\n",
       "      <td>0</td>\n",
       "      <td>62</td>\n",
       "    </tr>\n",
       "  </tbody>\n",
       "</table>\n",
       "</div>"
      ],
      "text/plain": [
       "     A  A1  A2  A3\n",
       "A   82   4   8  11\n",
       "A1   0  24   0   0\n",
       "A2   5   0  38   1\n",
       "A3   0   0   0  62"
      ]
     },
     "execution_count": 107,
     "metadata": {},
     "output_type": "execute_result"
    }
   ],
   "source": [
    "decoded_cnfm = pd.DataFrame(\n",
    "    confusion_matrix(grouped_y, train_pred),\n",
    "    index = encoder.classes_,\n",
    "    columns = encoder.classes_\n",
    ")\n",
    "\n",
    "decoded_cnfm.to_csv(\"../model/train_cnfm.csv\")\n",
    "decoded_cnfm"
   ]
  }
 ],
 "metadata": {
  "kernelspec": {
   "display_name": "unilever",
   "language": "python",
   "name": "python3"
  },
  "language_info": {
   "codemirror_mode": {
    "name": "ipython",
    "version": 3
   },
   "file_extension": ".py",
   "mimetype": "text/x-python",
   "name": "python",
   "nbconvert_exporter": "python",
   "pygments_lexer": "ipython3",
   "version": "3.10.15"
  }
 },
 "nbformat": 4,
 "nbformat_minor": 2
}
