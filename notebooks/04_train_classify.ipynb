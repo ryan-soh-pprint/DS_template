{
 "cells": [
  {
   "cell_type": "code",
   "execution_count": 33,
   "metadata": {},
   "outputs": [],
   "source": [
    "import pandas as pd\n",
    "import numpy as np\n",
    "import matplotlib.pyplot as plt\n",
    "import seaborn as sns\n",
    "\n",
    "from pptoolbox.platform import preprocess, WAVELENGTHS_3NM_V1\n",
    "from pptoolbox.platform.automl_v4 import AutoML_v4\n",
    "from pptoolbox.platform.automl_v4.utils import cross_group_predict\n",
    "\n",
    "from sklearn.preprocessing import LabelEncoder\n",
    "from sklearn.model_selection import train_test_split, StratifiedGroupKFold\n",
    "from sklearn.metrics import confusion_matrix, balanced_accuracy_score, f1_score\n",
    "\n",
    "import warnings\n",
    "warnings.simplefilter(\"ignore\")\n",
    "\n",
    "import pickle as pkl\n",
    "\n",
    "pd.set_option(\"display.max_columns\", None)\n",
    "pd.set_option(\"display.width\", None)"
   ]
  },
  {
   "cell_type": "markdown",
   "metadata": {},
   "source": [
    "# import data"
   ]
  },
  {
   "cell_type": "code",
   "execution_count": 64,
   "metadata": {},
   "outputs": [
    {
     "data": {
      "text/plain": [
       "((438, 13), (109, 7), (91, 7))"
      ]
     },
     "execution_count": 64,
     "metadata": {},
     "output_type": "execute_result"
    }
   ],
   "source": [
    "raw_folder_path = \"../data/raw\"\n",
    "raw_df = pd.read_csv(f\"{raw_folder_path}/spectra_241023.csv\")\n",
    "\n",
    "label_all_df = pd.read_csv(f\"../data/processed/label_all_241023.csv\")\n",
    "label_noAmb_df = pd.read_csv(f\"../data/processed/label_noAmb_241023.csv\")\n",
    "\n",
    "raw_df.shape, label_all_df.shape,label_noAmb_df.shape"
   ]
  },
  {
   "cell_type": "code",
   "execution_count": 65,
   "metadata": {},
   "outputs": [
    {
     "data": {
      "text/html": [
       "<div>\n",
       "<style scoped>\n",
       "    .dataframe tbody tr th:only-of-type {\n",
       "        vertical-align: middle;\n",
       "    }\n",
       "\n",
       "    .dataframe tbody tr th {\n",
       "        vertical-align: top;\n",
       "    }\n",
       "\n",
       "    .dataframe thead th {\n",
       "        text-align: right;\n",
       "    }\n",
       "</style>\n",
       "<table border=\"1\" class=\"dataframe\">\n",
       "  <thead>\n",
       "    <tr style=\"text-align: right;\">\n",
       "      <th></th>\n",
       "      <th>lot_id</th>\n",
       "      <th>specimen_id</th>\n",
       "      <th>lot_name</th>\n",
       "      <th>date_scanned</th>\n",
       "      <th>analyser_id</th>\n",
       "      <th>company_id</th>\n",
       "      <th>product_id</th>\n",
       "      <th>product_name</th>\n",
       "      <th>raw_data</th>\n",
       "      <th>dark_ref_data</th>\n",
       "      <th>white_ref_data</th>\n",
       "      <th>dark_ref_scan_time</th>\n",
       "      <th>white_ref_scan_time</th>\n",
       "    </tr>\n",
       "  </thead>\n",
       "  <tbody>\n",
       "    <tr>\n",
       "      <th>0</th>\n",
       "      <td>81314</td>\n",
       "      <td>482082</td>\n",
       "      <td>SH3639-025</td>\n",
       "      <td>1729241208</td>\n",
       "      <td>26</td>\n",
       "      <td>1281</td>\n",
       "      <td>6624</td>\n",
       "      <td>Shortening (Rancidity)</td>\n",
       "      <td>[{\"wavelength\": 332.4588623046875, \"reflectanc...</td>\n",
       "      <td>[11.282109375, 17.895625, 15.575234375, 17.175...</td>\n",
       "      <td>[11.20390625, 17.25265625, 15.479453125, 16.47...</td>\n",
       "      <td>1729240710</td>\n",
       "      <td>1729240737</td>\n",
       "    </tr>\n",
       "    <tr>\n",
       "      <th>1</th>\n",
       "      <td>81314</td>\n",
       "      <td>482083</td>\n",
       "      <td>SH3639-025</td>\n",
       "      <td>1729241228</td>\n",
       "      <td>26</td>\n",
       "      <td>1281</td>\n",
       "      <td>6624</td>\n",
       "      <td>Shortening (Rancidity)</td>\n",
       "      <td>[{\"wavelength\": 332.4588623046875, \"reflectanc...</td>\n",
       "      <td>[11.282109375, 17.895625, 15.575234375, 17.175...</td>\n",
       "      <td>[11.20390625, 17.25265625, 15.479453125, 16.47...</td>\n",
       "      <td>1729240710</td>\n",
       "      <td>1729240737</td>\n",
       "    </tr>\n",
       "    <tr>\n",
       "      <th>2</th>\n",
       "      <td>81314</td>\n",
       "      <td>482084</td>\n",
       "      <td>SH3639-025</td>\n",
       "      <td>1729241244</td>\n",
       "      <td>26</td>\n",
       "      <td>1281</td>\n",
       "      <td>6624</td>\n",
       "      <td>Shortening (Rancidity)</td>\n",
       "      <td>[{\"wavelength\": 332.4588623046875, \"reflectanc...</td>\n",
       "      <td>[11.282109375, 17.895625, 15.575234375, 17.175...</td>\n",
       "      <td>[11.20390625, 17.25265625, 15.479453125, 16.47...</td>\n",
       "      <td>1729240710</td>\n",
       "      <td>1729240737</td>\n",
       "    </tr>\n",
       "    <tr>\n",
       "      <th>3</th>\n",
       "      <td>81314</td>\n",
       "      <td>482085</td>\n",
       "      <td>SH3639-025</td>\n",
       "      <td>1729241260</td>\n",
       "      <td>26</td>\n",
       "      <td>1281</td>\n",
       "      <td>6624</td>\n",
       "      <td>Shortening (Rancidity)</td>\n",
       "      <td>[{\"wavelength\": 332.4588623046875, \"reflectanc...</td>\n",
       "      <td>[11.282109375, 17.895625, 15.575234375, 17.175...</td>\n",
       "      <td>[11.20390625, 17.25265625, 15.479453125, 16.47...</td>\n",
       "      <td>1729240710</td>\n",
       "      <td>1729240737</td>\n",
       "    </tr>\n",
       "    <tr>\n",
       "      <th>4</th>\n",
       "      <td>81331</td>\n",
       "      <td>481986</td>\n",
       "      <td>SH3639-053</td>\n",
       "      <td>1729239429</td>\n",
       "      <td>26</td>\n",
       "      <td>1281</td>\n",
       "      <td>6624</td>\n",
       "      <td>Shortening (Rancidity)</td>\n",
       "      <td>[{\"wavelength\": 332.4588623046875, \"reflectanc...</td>\n",
       "      <td>[10.82578125, 17.066953125, 15.0646875, 16.381...</td>\n",
       "      <td>[10.903125, 16.99671875, 15.00578125, 16.12343...</td>\n",
       "      <td>1729239190</td>\n",
       "      <td>1729239211</td>\n",
       "    </tr>\n",
       "  </tbody>\n",
       "</table>\n",
       "</div>"
      ],
      "text/plain": [
       "   lot_id  specimen_id    lot_name  date_scanned  analyser_id  company_id  \\\n",
       "0   81314       482082  SH3639-025    1729241208           26        1281   \n",
       "1   81314       482083  SH3639-025    1729241228           26        1281   \n",
       "2   81314       482084  SH3639-025    1729241244           26        1281   \n",
       "3   81314       482085  SH3639-025    1729241260           26        1281   \n",
       "4   81331       481986  SH3639-053    1729239429           26        1281   \n",
       "\n",
       "   product_id            product_name  \\\n",
       "0        6624  Shortening (Rancidity)   \n",
       "1        6624  Shortening (Rancidity)   \n",
       "2        6624  Shortening (Rancidity)   \n",
       "3        6624  Shortening (Rancidity)   \n",
       "4        6624  Shortening (Rancidity)   \n",
       "\n",
       "                                            raw_data  \\\n",
       "0  [{\"wavelength\": 332.4588623046875, \"reflectanc...   \n",
       "1  [{\"wavelength\": 332.4588623046875, \"reflectanc...   \n",
       "2  [{\"wavelength\": 332.4588623046875, \"reflectanc...   \n",
       "3  [{\"wavelength\": 332.4588623046875, \"reflectanc...   \n",
       "4  [{\"wavelength\": 332.4588623046875, \"reflectanc...   \n",
       "\n",
       "                                       dark_ref_data  \\\n",
       "0  [11.282109375, 17.895625, 15.575234375, 17.175...   \n",
       "1  [11.282109375, 17.895625, 15.575234375, 17.175...   \n",
       "2  [11.282109375, 17.895625, 15.575234375, 17.175...   \n",
       "3  [11.282109375, 17.895625, 15.575234375, 17.175...   \n",
       "4  [10.82578125, 17.066953125, 15.0646875, 16.381...   \n",
       "\n",
       "                                      white_ref_data  dark_ref_scan_time  \\\n",
       "0  [11.20390625, 17.25265625, 15.479453125, 16.47...          1729240710   \n",
       "1  [11.20390625, 17.25265625, 15.479453125, 16.47...          1729240710   \n",
       "2  [11.20390625, 17.25265625, 15.479453125, 16.47...          1729240710   \n",
       "3  [11.20390625, 17.25265625, 15.479453125, 16.47...          1729240710   \n",
       "4  [10.903125, 16.99671875, 15.00578125, 16.12343...          1729239190   \n",
       "\n",
       "   white_ref_scan_time  \n",
       "0           1729240737  \n",
       "1           1729240737  \n",
       "2           1729240737  \n",
       "3           1729240737  \n",
       "4           1729239211  "
      ]
     },
     "execution_count": 65,
     "metadata": {},
     "output_type": "execute_result"
    }
   ],
   "source": [
    "raw_df.head()"
   ]
  },
  {
   "cell_type": "code",
   "execution_count": 66,
   "metadata": {},
   "outputs": [
    {
     "data": {
      "text/html": [
       "<div>\n",
       "<style scoped>\n",
       "    .dataframe tbody tr th:only-of-type {\n",
       "        vertical-align: middle;\n",
       "    }\n",
       "\n",
       "    .dataframe tbody tr th {\n",
       "        vertical-align: top;\n",
       "    }\n",
       "\n",
       "    .dataframe thead th {\n",
       "        text-align: right;\n",
       "    }\n",
       "</style>\n",
       "<table border=\"1\" class=\"dataframe\">\n",
       "  <thead>\n",
       "    <tr style=\"text-align: right;\">\n",
       "      <th>property_name</th>\n",
       "      <th>lot_id</th>\n",
       "      <th>lot_name</th>\n",
       "      <th>Rancidity (Class-text)</th>\n",
       "    </tr>\n",
       "  </thead>\n",
       "  <tbody>\n",
       "    <tr>\n",
       "      <th>0</th>\n",
       "      <td>76751</td>\n",
       "      <td>SH3639-598</td>\n",
       "      <td>2Mild</td>\n",
       "    </tr>\n",
       "    <tr>\n",
       "      <th>1</th>\n",
       "      <td>76752</td>\n",
       "      <td>SH3639-A</td>\n",
       "      <td>1Pass</td>\n",
       "    </tr>\n",
       "    <tr>\n",
       "      <th>2</th>\n",
       "      <td>76753</td>\n",
       "      <td>SH3639-397</td>\n",
       "      <td>1Pass</td>\n",
       "    </tr>\n",
       "    <tr>\n",
       "      <th>3</th>\n",
       "      <td>76754</td>\n",
       "      <td>SH3639-486</td>\n",
       "      <td>3Rancid</td>\n",
       "    </tr>\n",
       "    <tr>\n",
       "      <th>4</th>\n",
       "      <td>76755</td>\n",
       "      <td>SH3639-208</td>\n",
       "      <td>2Mild</td>\n",
       "    </tr>\n",
       "    <tr>\n",
       "      <th>...</th>\n",
       "      <td>...</td>\n",
       "      <td>...</td>\n",
       "      <td>...</td>\n",
       "    </tr>\n",
       "    <tr>\n",
       "      <th>86</th>\n",
       "      <td>81327</td>\n",
       "      <td>SH3639-659</td>\n",
       "      <td>3Rancid</td>\n",
       "    </tr>\n",
       "    <tr>\n",
       "      <th>87</th>\n",
       "      <td>81328</td>\n",
       "      <td>SH3639-937</td>\n",
       "      <td>2Mild</td>\n",
       "    </tr>\n",
       "    <tr>\n",
       "      <th>88</th>\n",
       "      <td>81329</td>\n",
       "      <td>SH3639-950</td>\n",
       "      <td>1Pass</td>\n",
       "    </tr>\n",
       "    <tr>\n",
       "      <th>89</th>\n",
       "      <td>81330</td>\n",
       "      <td>SH3639-391</td>\n",
       "      <td>3Rancid</td>\n",
       "    </tr>\n",
       "    <tr>\n",
       "      <th>90</th>\n",
       "      <td>81331</td>\n",
       "      <td>SH3639-053</td>\n",
       "      <td>2Mild</td>\n",
       "    </tr>\n",
       "  </tbody>\n",
       "</table>\n",
       "<p>91 rows × 3 columns</p>\n",
       "</div>"
      ],
      "text/plain": [
       "property_name  lot_id    lot_name Rancidity (Class-text)\n",
       "0               76751  SH3639-598                  2Mild\n",
       "1               76752    SH3639-A                  1Pass\n",
       "2               76753  SH3639-397                  1Pass\n",
       "3               76754  SH3639-486                3Rancid\n",
       "4               76755  SH3639-208                  2Mild\n",
       "..                ...         ...                    ...\n",
       "86              81327  SH3639-659                3Rancid\n",
       "87              81328  SH3639-937                  2Mild\n",
       "88              81329  SH3639-950                  1Pass\n",
       "89              81330  SH3639-391                3Rancid\n",
       "90              81331  SH3639-053                  2Mild\n",
       "\n",
       "[91 rows x 3 columns]"
      ]
     },
     "execution_count": 66,
     "metadata": {},
     "output_type": "execute_result"
    }
   ],
   "source": [
    "label_df = label_noAmb_df.pivot(index=['lot_id','lot_name'],columns='property_name',values='property_value').reset_index()\n",
    "label_df"
   ]
  },
  {
   "cell_type": "markdown",
   "metadata": {},
   "source": [
    "# train-test split random"
   ]
  },
  {
   "cell_type": "code",
   "execution_count": 98,
   "metadata": {},
   "outputs": [
    {
     "data": {
      "text/plain": [
       "((81, 2), (10, 2))"
      ]
     },
     "execution_count": 98,
     "metadata": {},
     "output_type": "execute_result"
    }
   ],
   "source": [
    "# random split\n",
    "label = label_df.set_index('lot_id')\n",
    "\n",
    "sorted_idx = label.index.unique()\n",
    "train_label, test_label = train_test_split(label.loc[sorted_idx], test_size=0.1, stratify=label.loc[sorted_idx]['Rancidity (Class-text)'],\n",
    "                                           shuffle=True, random_state=42)\n",
    "\n",
    "train_label.shape, test_label.shape"
   ]
  },
  {
   "cell_type": "code",
   "execution_count": 99,
   "metadata": {},
   "outputs": [
    {
     "name": "stdout",
     "output_type": "stream",
     "text": [
      "(325, 12) (325, 2) (40, 12) (40, 2)\n"
     ]
    }
   ],
   "source": [
    "train_idx = train_label.index\n",
    "test_idx = test_label.index\n",
    "\n",
    "save_dir = \"../data/processed/\"\n",
    "\n",
    "X_train = raw_df.set_index('lot_id').loc[train_idx]\n",
    "X_test = raw_df.set_index('lot_id').loc[test_idx]\n",
    "y_train = label_df.set_index('lot_id').loc[X_train.index]\n",
    "y_test = label_df.set_index('lot_id').loc[X_test.index]\n",
    "\n",
    "print(X_train.shape,y_train.shape,X_test.shape,y_test.shape)\n",
    "\n",
    "X_train.to_csv(f'{save_dir}/Xtrain.csv')\n",
    "X_test.to_csv(f'{save_dir}/Xtest.csv')\n",
    "y_train.to_csv(f'{save_dir}/ytrain.csv')\n",
    "y_test.to_csv(f'{save_dir}/ytest.csv')\n",
    "\n",
    "X_train = X_train.reset_index()\n",
    "X_test = X_test.reset_index()\n",
    "y_train = y_train.reset_index()\n",
    "y_test = y_test.reset_index()"
   ]
  },
  {
   "cell_type": "markdown",
   "metadata": {},
   "source": [
    "# train-test split by date"
   ]
  },
  {
   "cell_type": "code",
   "execution_count": 80,
   "metadata": {},
   "outputs": [
    {
     "data": {
      "text/plain": [
       "((940, 11), (96, 11))"
      ]
     },
     "execution_count": 80,
     "metadata": {},
     "output_type": "execute_result"
    }
   ],
   "source": [
    "val_df = raw_df[raw_df['date_scanned'] > 1727654400]\n",
    "raw_df = raw_df[raw_df['date_scanned'] < 1727654400]\n",
    "raw_df.shape, val_df.shape"
   ]
  },
  {
   "cell_type": "code",
   "execution_count": 81,
   "metadata": {},
   "outputs": [],
   "source": [
    "label_train = label_df[label_df['lot_id'].isin(raw_df['lot_id'])]\n",
    "label_train.to_csv('../data/train_list.csv')"
   ]
  },
  {
   "cell_type": "markdown",
   "metadata": {},
   "source": [
    "# preprocess"
   ]
  },
  {
   "cell_type": "code",
   "execution_count": 100,
   "metadata": {},
   "outputs": [],
   "source": [
    "y_train = y_train.drop_duplicates().drop(columns = ['lot_name'])\n",
    "y_test = y_test.drop_duplicates().drop(columns = ['lot_name'])"
   ]
  },
  {
   "cell_type": "code",
   "execution_count": 101,
   "metadata": {},
   "outputs": [
    {
     "data": {
      "text/plain": [
       "((325, 191), (325, 1), (40, 191), (40, 1))"
      ]
     },
     "execution_count": 101,
     "metadata": {},
     "output_type": "execute_result"
    }
   ],
   "source": [
    "X_train, y_train = preprocess(X_train, y_train,  wavelengths=WAVELENGTHS_3NM_V1)\n",
    "X_test, y_test = preprocess(X_test, y_test,  wavelengths=WAVELENGTHS_3NM_V1)\n",
    "X_train.shape, y_train.shape, X_test.shape, y_test.shape"
   ]
  },
  {
   "cell_type": "markdown",
   "metadata": {},
   "source": [
    "# Classify"
   ]
  },
  {
   "cell_type": "code",
   "execution_count": 102,
   "metadata": {},
   "outputs": [
    {
     "data": {
      "text/plain": [
       "((325, 191), (325,))"
      ]
     },
     "execution_count": 102,
     "metadata": {},
     "output_type": "execute_result"
    }
   ],
   "source": [
    "encoder = LabelEncoder()\n",
    "y_train_encoded = pd.Series(\n",
    "    encoder.fit_transform(y_train),\n",
    "    index = y_train.index\n",
    ")\n",
    "\n",
    "pkl.dump(encoder, open(\"../models/automl/encoder.pkl\", \"wb\"))\n",
    "\n",
    "X_train.shape, y_train_encoded.shape"
   ]
  },
  {
   "cell_type": "code",
   "execution_count": 103,
   "metadata": {},
   "outputs": [
    {
     "name": "stdout",
     "output_type": "stream",
     "text": [
      " 88%|████████▊ | 177/200 [01:03<00:08,  2.80trial/s, best loss: 0.2891013307679974]\n"
     ]
    }
   ],
   "source": [
    "trainer = AutoML_v4(task_type = \"classify\")\n",
    "trainer.fit(X_train, y_train_encoded)\n",
    "pkl.dump(trainer, open(\n",
    "    \"../models/automl/trainer.pkl\", \"wb\"\n",
    "))"
   ]
  },
  {
   "cell_type": "code",
   "execution_count": 104,
   "metadata": {},
   "outputs": [],
   "source": [
    "trainer=pkl.load(open('../models/automl/trainer.pkl','rb'))"
   ]
  },
  {
   "cell_type": "code",
   "execution_count": 105,
   "metadata": {},
   "outputs": [
    {
     "data": {
      "text/plain": [
       "{'state': 2,\n",
       " 'tid': 101,\n",
       " 'spec': None,\n",
       " 'result': {'loss': 0.2891013307679974,\n",
       "  'cv_results': {'train_balanced_accuracy': 0.8110989118235495,\n",
       "   'test_balanced_accuracy': 0.7108986692320026,\n",
       "   'train_f1_micro': 0.8124688830277199,\n",
       "   'test_f1_micro': 0.7162528829195495,\n",
       "   'train_precision_micro': 0.8124688830277199,\n",
       "   'test_precision_micro': 0.7162528829195497,\n",
       "   'train_recall_micro': 0.8124688830277199,\n",
       "   'test_recall_micro': 0.7162528829195497},\n",
       "  'time_taken': 0.34583497047424316,\n",
       "  'pipeline': Pipeline(steps=[('SG2D', SavitzkyGolay(deriv=2, window=17)),\n",
       "                  ('Scaler', StandardScaler(with_std=False)),\n",
       "                  ('PCA', PCA(n_components=17, random_state=42)),\n",
       "                  ('LDA', LinearDiscriminantAnalysis())]),\n",
       "  'status': 'ok',\n",
       "  'exception': None},\n",
       " 'misc': {'tid': 101,\n",
       "  'cmd': ('domain_attachment', 'FMinIter_Domain'),\n",
       "  'workdir': None,\n",
       "  'idxs': {'C': [],\n",
       "   'alpha': [],\n",
       "   'ccp_alpha': [],\n",
       "   'classifier': [101],\n",
       "   'dimred_choice': [],\n",
       "   'kernel': [],\n",
       "   'l1_ratio': [],\n",
       "   'max_depth': [],\n",
       "   'max_depth_gt_0': [],\n",
       "   'n_components': [101],\n",
       "   'preprocessing': [101],\n",
       "   'window': [101]},\n",
       "  'vals': {'C': [],\n",
       "   'alpha': [],\n",
       "   'ccp_alpha': [],\n",
       "   'classifier': [5],\n",
       "   'dimred_choice': [],\n",
       "   'kernel': [],\n",
       "   'l1_ratio': [],\n",
       "   'max_depth': [],\n",
       "   'max_depth_gt_0': [],\n",
       "   'n_components': [17.0],\n",
       "   'preprocessing': [3],\n",
       "   'window': [5]}},\n",
       " 'exp_key': None,\n",
       " 'owner': None,\n",
       " 'version': 0,\n",
       " 'book_time': datetime.datetime(2024, 10, 24, 1, 39, 45, 499000),\n",
       " 'refresh_time': datetime.datetime(2024, 10, 24, 1, 39, 45, 847000)}"
      ]
     },
     "execution_count": 105,
     "metadata": {},
     "output_type": "execute_result"
    }
   ],
   "source": [
    "trainer.get_best_trial()"
   ]
  },
  {
   "cell_type": "code",
   "execution_count": 106,
   "metadata": {},
   "outputs": [
    {
     "data": {
      "text/html": [
       "<style>#sk-container-id-4 {color: black;}#sk-container-id-4 pre{padding: 0;}#sk-container-id-4 div.sk-toggleable {background-color: white;}#sk-container-id-4 label.sk-toggleable__label {cursor: pointer;display: block;width: 100%;margin-bottom: 0;padding: 0.3em;box-sizing: border-box;text-align: center;}#sk-container-id-4 label.sk-toggleable__label-arrow:before {content: \"▸\";float: left;margin-right: 0.25em;color: #696969;}#sk-container-id-4 label.sk-toggleable__label-arrow:hover:before {color: black;}#sk-container-id-4 div.sk-estimator:hover label.sk-toggleable__label-arrow:before {color: black;}#sk-container-id-4 div.sk-toggleable__content {max-height: 0;max-width: 0;overflow: hidden;text-align: left;background-color: #f0f8ff;}#sk-container-id-4 div.sk-toggleable__content pre {margin: 0.2em;color: black;border-radius: 0.25em;background-color: #f0f8ff;}#sk-container-id-4 input.sk-toggleable__control:checked~div.sk-toggleable__content {max-height: 200px;max-width: 100%;overflow: auto;}#sk-container-id-4 input.sk-toggleable__control:checked~label.sk-toggleable__label-arrow:before {content: \"▾\";}#sk-container-id-4 div.sk-estimator input.sk-toggleable__control:checked~label.sk-toggleable__label {background-color: #d4ebff;}#sk-container-id-4 div.sk-label input.sk-toggleable__control:checked~label.sk-toggleable__label {background-color: #d4ebff;}#sk-container-id-4 input.sk-hidden--visually {border: 0;clip: rect(1px 1px 1px 1px);clip: rect(1px, 1px, 1px, 1px);height: 1px;margin: -1px;overflow: hidden;padding: 0;position: absolute;width: 1px;}#sk-container-id-4 div.sk-estimator {font-family: monospace;background-color: #f0f8ff;border: 1px dotted black;border-radius: 0.25em;box-sizing: border-box;margin-bottom: 0.5em;}#sk-container-id-4 div.sk-estimator:hover {background-color: #d4ebff;}#sk-container-id-4 div.sk-parallel-item::after {content: \"\";width: 100%;border-bottom: 1px solid gray;flex-grow: 1;}#sk-container-id-4 div.sk-label:hover label.sk-toggleable__label {background-color: #d4ebff;}#sk-container-id-4 div.sk-serial::before {content: \"\";position: absolute;border-left: 1px solid gray;box-sizing: border-box;top: 0;bottom: 0;left: 50%;z-index: 0;}#sk-container-id-4 div.sk-serial {display: flex;flex-direction: column;align-items: center;background-color: white;padding-right: 0.2em;padding-left: 0.2em;position: relative;}#sk-container-id-4 div.sk-item {position: relative;z-index: 1;}#sk-container-id-4 div.sk-parallel {display: flex;align-items: stretch;justify-content: center;background-color: white;position: relative;}#sk-container-id-4 div.sk-item::before, #sk-container-id-4 div.sk-parallel-item::before {content: \"\";position: absolute;border-left: 1px solid gray;box-sizing: border-box;top: 0;bottom: 0;left: 50%;z-index: -1;}#sk-container-id-4 div.sk-parallel-item {display: flex;flex-direction: column;z-index: 1;position: relative;background-color: white;}#sk-container-id-4 div.sk-parallel-item:first-child::after {align-self: flex-end;width: 50%;}#sk-container-id-4 div.sk-parallel-item:last-child::after {align-self: flex-start;width: 50%;}#sk-container-id-4 div.sk-parallel-item:only-child::after {width: 0;}#sk-container-id-4 div.sk-dashed-wrapped {border: 1px dashed gray;margin: 0 0.4em 0.5em 0.4em;box-sizing: border-box;padding-bottom: 0.4em;background-color: white;}#sk-container-id-4 div.sk-label label {font-family: monospace;font-weight: bold;display: inline-block;line-height: 1.2em;}#sk-container-id-4 div.sk-label-container {text-align: center;}#sk-container-id-4 div.sk-container {/* jupyter's `normalize.less` sets `[hidden] { display: none; }` but bootstrap.min.css set `[hidden] { display: none !important; }` so we also need the `!important` here to be able to override the default hidden behavior on the sphinx rendered scikit-learn.org. See: https://github.com/scikit-learn/scikit-learn/issues/21755 */display: inline-block !important;position: relative;}#sk-container-id-4 div.sk-text-repr-fallback {display: none;}</style><div id=\"sk-container-id-4\" class=\"sk-top-container\"><div class=\"sk-text-repr-fallback\"><pre>Pipeline(steps=[(&#x27;SG2D&#x27;, SavitzkyGolay(deriv=2, window=17)),\n",
       "                (&#x27;Scaler&#x27;, StandardScaler(with_std=False)),\n",
       "                (&#x27;PCA&#x27;, PCA(n_components=17, random_state=42)),\n",
       "                (&#x27;LDA&#x27;, LinearDiscriminantAnalysis())])</pre><b>In a Jupyter environment, please rerun this cell to show the HTML representation or trust the notebook. <br />On GitHub, the HTML representation is unable to render, please try loading this page with nbviewer.org.</b></div><div class=\"sk-container\" hidden><div class=\"sk-item sk-dashed-wrapped\"><div class=\"sk-label-container\"><div class=\"sk-label sk-toggleable\"><input class=\"sk-toggleable__control sk-hidden--visually\" id=\"sk-estimator-id-18\" type=\"checkbox\" ><label for=\"sk-estimator-id-18\" class=\"sk-toggleable__label sk-toggleable__label-arrow\">Pipeline</label><div class=\"sk-toggleable__content\"><pre>Pipeline(steps=[(&#x27;SG2D&#x27;, SavitzkyGolay(deriv=2, window=17)),\n",
       "                (&#x27;Scaler&#x27;, StandardScaler(with_std=False)),\n",
       "                (&#x27;PCA&#x27;, PCA(n_components=17, random_state=42)),\n",
       "                (&#x27;LDA&#x27;, LinearDiscriminantAnalysis())])</pre></div></div></div><div class=\"sk-serial\"><div class=\"sk-item\"><div class=\"sk-estimator sk-toggleable\"><input class=\"sk-toggleable__control sk-hidden--visually\" id=\"sk-estimator-id-19\" type=\"checkbox\" ><label for=\"sk-estimator-id-19\" class=\"sk-toggleable__label sk-toggleable__label-arrow\">SavitzkyGolay</label><div class=\"sk-toggleable__content\"><pre>SavitzkyGolay(deriv=2, window=17)</pre></div></div></div><div class=\"sk-item\"><div class=\"sk-estimator sk-toggleable\"><input class=\"sk-toggleable__control sk-hidden--visually\" id=\"sk-estimator-id-20\" type=\"checkbox\" ><label for=\"sk-estimator-id-20\" class=\"sk-toggleable__label sk-toggleable__label-arrow\">StandardScaler</label><div class=\"sk-toggleable__content\"><pre>StandardScaler(with_std=False)</pre></div></div></div><div class=\"sk-item\"><div class=\"sk-estimator sk-toggleable\"><input class=\"sk-toggleable__control sk-hidden--visually\" id=\"sk-estimator-id-21\" type=\"checkbox\" ><label for=\"sk-estimator-id-21\" class=\"sk-toggleable__label sk-toggleable__label-arrow\">PCA</label><div class=\"sk-toggleable__content\"><pre>PCA(n_components=17, random_state=42)</pre></div></div></div><div class=\"sk-item\"><div class=\"sk-estimator sk-toggleable\"><input class=\"sk-toggleable__control sk-hidden--visually\" id=\"sk-estimator-id-22\" type=\"checkbox\" ><label for=\"sk-estimator-id-22\" class=\"sk-toggleable__label sk-toggleable__label-arrow\">LinearDiscriminantAnalysis</label><div class=\"sk-toggleable__content\"><pre>LinearDiscriminantAnalysis()</pre></div></div></div></div></div></div></div>"
      ],
      "text/plain": [
       "Pipeline(steps=[('SG2D', SavitzkyGolay(deriv=2, window=17)),\n",
       "                ('Scaler', StandardScaler(with_std=False)),\n",
       "                ('PCA', PCA(n_components=17, random_state=42)),\n",
       "                ('LDA', LinearDiscriminantAnalysis())])"
      ]
     },
     "execution_count": 106,
     "metadata": {},
     "output_type": "execute_result"
    }
   ],
   "source": [
    "trainer.get_pipeline()"
   ]
  },
  {
   "cell_type": "markdown",
   "metadata": {},
   "source": [
    "# platform model"
   ]
  },
  {
   "cell_type": "code",
   "execution_count": 88,
   "metadata": {},
   "outputs": [],
   "source": [
    "platform_trainer=pkl.load(open('../models/platform/6089/prediction/trainer.pkl','rb'))"
   ]
  },
  {
   "cell_type": "code",
   "execution_count": 89,
   "metadata": {},
   "outputs": [
    {
     "data": {
      "text/plain": [
       "{'state': 2,\n",
       " 'tid': 137,\n",
       " 'spec': None,\n",
       " 'result': {'loss': 0.13482142857142865,\n",
       "  'cv_results': {'train_balanced_accuracy': 0.9195262959402992,\n",
       "   'test_balanced_accuracy': 0.8651785714285714,\n",
       "   'train_f1_micro': 0.8946696880614077,\n",
       "   'test_f1_micro': 0.8471275559883155,\n",
       "   'train_precision_micro': 0.8946696880614078,\n",
       "   'test_precision_micro': 0.8471275559883155,\n",
       "   'train_recall_micro': 0.8946696880614078,\n",
       "   'test_recall_micro': 0.8471275559883155},\n",
       "  'time_taken': 0.38838720321655273,\n",
       "  'pipeline': Pipeline(steps=[('SG2D', SavitzkyGolay(deriv=2, window=13)),\n",
       "                  ('Scaler', StandardScaler(with_std=False)),\n",
       "                  ('PCA', PCA(n_components=23, random_state=42)),\n",
       "                  ('QDA', QuadraticDiscriminantAnalysis())]),\n",
       "  'status': 'ok',\n",
       "  'exception': None},\n",
       " 'misc': {'tid': 137,\n",
       "  'cmd': ('domain_attachment', 'FMinIter_Domain'),\n",
       "  'workdir': None,\n",
       "  'idxs': {'C': [],\n",
       "   'alpha': [],\n",
       "   'ccp_alpha': [],\n",
       "   'classifier': [137],\n",
       "   'dimred_choice': [],\n",
       "   'kernel': [],\n",
       "   'l1_ratio': [],\n",
       "   'max_depth': [],\n",
       "   'max_depth_gt_0': [],\n",
       "   'n_components': [137],\n",
       "   'preprocessing': [137],\n",
       "   'window': [137]},\n",
       "  'vals': {'C': [],\n",
       "   'alpha': [],\n",
       "   'ccp_alpha': [],\n",
       "   'classifier': [6],\n",
       "   'dimred_choice': [],\n",
       "   'kernel': [],\n",
       "   'l1_ratio': [],\n",
       "   'max_depth': [],\n",
       "   'max_depth_gt_0': [],\n",
       "   'n_components': [23.0],\n",
       "   'preprocessing': [3],\n",
       "   'window': [3]}},\n",
       " 'exp_key': None,\n",
       " 'owner': None,\n",
       " 'version': 0,\n",
       " 'book_time': datetime.datetime(2024, 9, 30, 15, 35, 30, 727000),\n",
       " 'refresh_time': datetime.datetime(2024, 9, 30, 15, 35, 31, 273000)}"
      ]
     },
     "execution_count": 89,
     "metadata": {},
     "output_type": "execute_result"
    }
   ],
   "source": [
    "platform_trainer.get_best_trial()"
   ]
  },
  {
   "cell_type": "code",
   "execution_count": 90,
   "metadata": {},
   "outputs": [
    {
     "data": {
      "text/html": [
       "<style>#sk-container-id-8 {color: black;}#sk-container-id-8 pre{padding: 0;}#sk-container-id-8 div.sk-toggleable {background-color: white;}#sk-container-id-8 label.sk-toggleable__label {cursor: pointer;display: block;width: 100%;margin-bottom: 0;padding: 0.3em;box-sizing: border-box;text-align: center;}#sk-container-id-8 label.sk-toggleable__label-arrow:before {content: \"▸\";float: left;margin-right: 0.25em;color: #696969;}#sk-container-id-8 label.sk-toggleable__label-arrow:hover:before {color: black;}#sk-container-id-8 div.sk-estimator:hover label.sk-toggleable__label-arrow:before {color: black;}#sk-container-id-8 div.sk-toggleable__content {max-height: 0;max-width: 0;overflow: hidden;text-align: left;background-color: #f0f8ff;}#sk-container-id-8 div.sk-toggleable__content pre {margin: 0.2em;color: black;border-radius: 0.25em;background-color: #f0f8ff;}#sk-container-id-8 input.sk-toggleable__control:checked~div.sk-toggleable__content {max-height: 200px;max-width: 100%;overflow: auto;}#sk-container-id-8 input.sk-toggleable__control:checked~label.sk-toggleable__label-arrow:before {content: \"▾\";}#sk-container-id-8 div.sk-estimator input.sk-toggleable__control:checked~label.sk-toggleable__label {background-color: #d4ebff;}#sk-container-id-8 div.sk-label input.sk-toggleable__control:checked~label.sk-toggleable__label {background-color: #d4ebff;}#sk-container-id-8 input.sk-hidden--visually {border: 0;clip: rect(1px 1px 1px 1px);clip: rect(1px, 1px, 1px, 1px);height: 1px;margin: -1px;overflow: hidden;padding: 0;position: absolute;width: 1px;}#sk-container-id-8 div.sk-estimator {font-family: monospace;background-color: #f0f8ff;border: 1px dotted black;border-radius: 0.25em;box-sizing: border-box;margin-bottom: 0.5em;}#sk-container-id-8 div.sk-estimator:hover {background-color: #d4ebff;}#sk-container-id-8 div.sk-parallel-item::after {content: \"\";width: 100%;border-bottom: 1px solid gray;flex-grow: 1;}#sk-container-id-8 div.sk-label:hover label.sk-toggleable__label {background-color: #d4ebff;}#sk-container-id-8 div.sk-serial::before {content: \"\";position: absolute;border-left: 1px solid gray;box-sizing: border-box;top: 0;bottom: 0;left: 50%;z-index: 0;}#sk-container-id-8 div.sk-serial {display: flex;flex-direction: column;align-items: center;background-color: white;padding-right: 0.2em;padding-left: 0.2em;position: relative;}#sk-container-id-8 div.sk-item {position: relative;z-index: 1;}#sk-container-id-8 div.sk-parallel {display: flex;align-items: stretch;justify-content: center;background-color: white;position: relative;}#sk-container-id-8 div.sk-item::before, #sk-container-id-8 div.sk-parallel-item::before {content: \"\";position: absolute;border-left: 1px solid gray;box-sizing: border-box;top: 0;bottom: 0;left: 50%;z-index: -1;}#sk-container-id-8 div.sk-parallel-item {display: flex;flex-direction: column;z-index: 1;position: relative;background-color: white;}#sk-container-id-8 div.sk-parallel-item:first-child::after {align-self: flex-end;width: 50%;}#sk-container-id-8 div.sk-parallel-item:last-child::after {align-self: flex-start;width: 50%;}#sk-container-id-8 div.sk-parallel-item:only-child::after {width: 0;}#sk-container-id-8 div.sk-dashed-wrapped {border: 1px dashed gray;margin: 0 0.4em 0.5em 0.4em;box-sizing: border-box;padding-bottom: 0.4em;background-color: white;}#sk-container-id-8 div.sk-label label {font-family: monospace;font-weight: bold;display: inline-block;line-height: 1.2em;}#sk-container-id-8 div.sk-label-container {text-align: center;}#sk-container-id-8 div.sk-container {/* jupyter's `normalize.less` sets `[hidden] { display: none; }` but bootstrap.min.css set `[hidden] { display: none !important; }` so we also need the `!important` here to be able to override the default hidden behavior on the sphinx rendered scikit-learn.org. See: https://github.com/scikit-learn/scikit-learn/issues/21755 */display: inline-block !important;position: relative;}#sk-container-id-8 div.sk-text-repr-fallback {display: none;}</style><div id=\"sk-container-id-8\" class=\"sk-top-container\"><div class=\"sk-text-repr-fallback\"><pre>Pipeline(steps=[(&#x27;SG2D&#x27;, SavitzkyGolay(deriv=2, window=13)),\n",
       "                (&#x27;Scaler&#x27;, StandardScaler(with_std=False)),\n",
       "                (&#x27;PCA&#x27;, PCA(n_components=23, random_state=42)),\n",
       "                (&#x27;QDA&#x27;, QuadraticDiscriminantAnalysis())])</pre><b>In a Jupyter environment, please rerun this cell to show the HTML representation or trust the notebook. <br />On GitHub, the HTML representation is unable to render, please try loading this page with nbviewer.org.</b></div><div class=\"sk-container\" hidden><div class=\"sk-item sk-dashed-wrapped\"><div class=\"sk-label-container\"><div class=\"sk-label sk-toggleable\"><input class=\"sk-toggleable__control sk-hidden--visually\" id=\"sk-estimator-id-32\" type=\"checkbox\" ><label for=\"sk-estimator-id-32\" class=\"sk-toggleable__label sk-toggleable__label-arrow\">Pipeline</label><div class=\"sk-toggleable__content\"><pre>Pipeline(steps=[(&#x27;SG2D&#x27;, SavitzkyGolay(deriv=2, window=13)),\n",
       "                (&#x27;Scaler&#x27;, StandardScaler(with_std=False)),\n",
       "                (&#x27;PCA&#x27;, PCA(n_components=23, random_state=42)),\n",
       "                (&#x27;QDA&#x27;, QuadraticDiscriminantAnalysis())])</pre></div></div></div><div class=\"sk-serial\"><div class=\"sk-item\"><div class=\"sk-estimator sk-toggleable\"><input class=\"sk-toggleable__control sk-hidden--visually\" id=\"sk-estimator-id-33\" type=\"checkbox\" ><label for=\"sk-estimator-id-33\" class=\"sk-toggleable__label sk-toggleable__label-arrow\">SavitzkyGolay</label><div class=\"sk-toggleable__content\"><pre>SavitzkyGolay(deriv=2, window=13)</pre></div></div></div><div class=\"sk-item\"><div class=\"sk-estimator sk-toggleable\"><input class=\"sk-toggleable__control sk-hidden--visually\" id=\"sk-estimator-id-34\" type=\"checkbox\" ><label for=\"sk-estimator-id-34\" class=\"sk-toggleable__label sk-toggleable__label-arrow\">StandardScaler</label><div class=\"sk-toggleable__content\"><pre>StandardScaler(with_std=False)</pre></div></div></div><div class=\"sk-item\"><div class=\"sk-estimator sk-toggleable\"><input class=\"sk-toggleable__control sk-hidden--visually\" id=\"sk-estimator-id-35\" type=\"checkbox\" ><label for=\"sk-estimator-id-35\" class=\"sk-toggleable__label sk-toggleable__label-arrow\">PCA</label><div class=\"sk-toggleable__content\"><pre>PCA(n_components=23, random_state=42)</pre></div></div></div><div class=\"sk-item\"><div class=\"sk-estimator sk-toggleable\"><input class=\"sk-toggleable__control sk-hidden--visually\" id=\"sk-estimator-id-36\" type=\"checkbox\" ><label for=\"sk-estimator-id-36\" class=\"sk-toggleable__label sk-toggleable__label-arrow\">QuadraticDiscriminantAnalysis</label><div class=\"sk-toggleable__content\"><pre>QuadraticDiscriminantAnalysis()</pre></div></div></div></div></div></div></div>"
      ],
      "text/plain": [
       "Pipeline(steps=[('SG2D', SavitzkyGolay(deriv=2, window=13)),\n",
       "                ('Scaler', StandardScaler(with_std=False)),\n",
       "                ('PCA', PCA(n_components=23, random_state=42)),\n",
       "                ('QDA', QuadraticDiscriminantAnalysis())])"
      ]
     },
     "execution_count": 90,
     "metadata": {},
     "output_type": "execute_result"
    }
   ],
   "source": [
    "platform_trainer.get_pipeline()"
   ]
  },
  {
   "cell_type": "markdown",
   "metadata": {},
   "source": [
    "# training metrics"
   ]
  },
  {
   "cell_type": "code",
   "execution_count": 22,
   "metadata": {},
   "outputs": [],
   "source": [
    "# grouped_X = X_train.groupby(X_train.index).mean()\n",
    "# grouped_y = y_train_encoded.groupby(y_train_encoded.index).mean()\n",
    "\n",
    "# train_pred = trainer.predict(grouped_X)"
   ]
  },
  {
   "cell_type": "code",
   "execution_count": 23,
   "metadata": {},
   "outputs": [
    {
     "data": {
      "image/png": "[encoded data removed]",
      "text/plain": [
       "<Figure size 600x400 with 1 Axes>"
      ]
     },
     "metadata": {},
     "output_type": "display_data"
    }
   ],
   "source": [
    "# cnfm = confusion_matrix(grouped_y, train_pred)\n",
    "# bal_acc = balanced_accuracy_score(grouped_y, train_pred)\n",
    "\n",
    "# fig = plt.figure(figsize = (6, 4))\n",
    "# fig.suptitle(\"Training Metrics\")\n",
    "# ax = fig.add_subplot(111)\n",
    "\n",
    "# cnfm_settings = {\n",
    "#     \"cmap\": \"Blues\",\n",
    "#     \"cbar\": None,\n",
    "#     \"annot\": True,\n",
    "#     \"fmt\": \".0f\",\n",
    "#     \"xticklabels\": encoder.classes_,\n",
    "#     \"yticklabels\": encoder.classes_,\n",
    "# }\n",
    "\n",
    "# ax.set_title(f\"Bal. Acc: {bal_acc*100:.2f}%\")\n",
    "# sns.heatmap(\n",
    "#     cnfm,\n",
    "#     ax = ax,\n",
    "#     **cnfm_settings\n",
    "# )\n",
    "\n",
    "# ax.set_xlabel('Predicted')\n",
    "# ax.set_ylabel('Actual')\n",
    "# # plt.tight_layout()\n",
    "# plt.show()"
   ]
  },
  {
   "cell_type": "code",
   "execution_count": 24,
   "metadata": {},
   "outputs": [
    {
     "data": {
      "text/plain": [
       "array([0.87719298, 0.82191781, 0.76923077])"
      ]
     },
     "execution_count": 24,
     "metadata": {},
     "output_type": "execute_result"
    }
   ],
   "source": [
    "f1score = f1_score(grouped_y, train_pred, average=None, labels=encoder.transform(list(encoder.classes_)))\n",
    "f1score"
   ]
  },
  {
   "cell_type": "markdown",
   "metadata": {},
   "source": [
    "# cross val predict"
   ]
  },
  {
   "cell_type": "code",
   "execution_count": 107,
   "metadata": {},
   "outputs": [],
   "source": [
    "grouped_X = X_train.groupby(X_train.index).mean()\n",
    "grouped_y = y_train_encoded.groupby(y_train_encoded.index).mean()\n",
    "\n",
    "# Calculate CV confusion matrix\n",
    "kfold = StratifiedGroupKFold(n_splits = 3)\n",
    "\n",
    "grouped_cv_pred = cross_group_predict(\n",
    "    trainer.get_pipeline(), \n",
    "    X = X_train,\n",
    "    y = y_train_encoded,\n",
    "    cv = kfold,\n",
    "    groups = X_train.index\n",
    ")"
   ]
  },
  {
   "cell_type": "code",
   "execution_count": 108,
   "metadata": {},
   "outputs": [
    {
     "data": {
      "image/png": "[encoded data removed]",
      "text/plain": [
       "<Figure size 600x400 with 1 Axes>"
      ]
     },
     "metadata": {},
     "output_type": "display_data"
    }
   ],
   "source": [
    "cnfm = confusion_matrix(grouped_y, grouped_cv_pred)\n",
    "bal_acc = balanced_accuracy_score(grouped_y, grouped_cv_pred)\n",
    "\n",
    "fig = plt.figure(figsize = (6, 4))\n",
    "fig.suptitle(\"Cross Validation Metrics\")\n",
    "ax = fig.add_subplot(111)\n",
    "\n",
    "ax.set_title(f\"Bal. Acc: {bal_acc*100:.2f}%\")\n",
    "\n",
    "cnfm_settings = {\n",
    "    \"cmap\": \"Blues\",\n",
    "    \"cbar\": None,\n",
    "    \"annot\": True,\n",
    "    \"fmt\": \".0f\",\n",
    "    \"xticklabels\": encoder.classes_,\n",
    "    \"yticklabels\": encoder.classes_,\n",
    "}\n",
    "\n",
    "sns.heatmap(\n",
    "    cnfm,\n",
    "    ax = ax,\n",
    "    **cnfm_settings\n",
    ")\n",
    "\n",
    "ax.set_xlabel('Predicted')\n",
    "ax.set_ylabel('Actual')\n",
    "\n",
    "# plt.tight_layout()\n",
    "plt.show()"
   ]
  },
  {
   "cell_type": "code",
   "execution_count": 109,
   "metadata": {},
   "outputs": [
    {
     "data": {
      "text/plain": [
       "array([0.75471698, 0.71641791, 0.66666667])"
      ]
     },
     "execution_count": 109,
     "metadata": {},
     "output_type": "execute_result"
    }
   ],
   "source": [
    "f1score = f1_score(grouped_y, grouped_cv_pred, average=None, labels=encoder.transform(list(encoder.classes_)))\n",
    "f1score"
   ]
  },
  {
   "cell_type": "markdown",
   "metadata": {},
   "source": [
    "# blinds predict"
   ]
  },
  {
   "cell_type": "code",
   "execution_count": 110,
   "metadata": {},
   "outputs": [
    {
     "data": {
      "text/plain": [
       "((40, 191), (40, 1))"
      ]
     },
     "execution_count": 110,
     "metadata": {},
     "output_type": "execute_result"
    }
   ],
   "source": [
    "X_val, y_val = X_test, y_test\n",
    "\n",
    "X_val.shape, y_val.shape"
   ]
  },
  {
   "cell_type": "code",
   "execution_count": 111,
   "metadata": {},
   "outputs": [],
   "source": [
    "y_val_encoded = pd.Series(\n",
    "    encoder.transform(y_val),\n",
    "    index = y_val.index\n",
    ")\n",
    "\n",
    "grouped_X_val = X_val.groupby(X_val.index).mean()\n",
    "grouped_y_val = y_val_encoded.groupby(y_val_encoded.index).mean()\n",
    "\n",
    "val_pred = trainer.predict(grouped_X_val)"
   ]
  },
  {
   "cell_type": "code",
   "execution_count": 112,
   "metadata": {},
   "outputs": [
    {
     "data": {
      "image/png": "[encoded data removed]",
      "text/plain": [
       "<Figure size 600x400 with 1 Axes>"
      ]
     },
     "metadata": {},
     "output_type": "display_data"
    }
   ],
   "source": [
    "cnfm = confusion_matrix(grouped_y_val, val_pred, labels = encoder.transform(list(encoder.classes_)))\n",
    "bal_acc = balanced_accuracy_score(grouped_y_val, val_pred)\n",
    "\n",
    "fig = plt.figure(figsize = (6, 4))\n",
    "fig.suptitle(\"Blinds Metrics\")\n",
    "ax = fig.add_subplot(111)\n",
    "\n",
    "ax.set_title(f\"Bal. Acc: {bal_acc*100:.2f}%\")\n",
    "\n",
    "cnfm_settings = {\n",
    "    \"cmap\": \"Blues\",\n",
    "    \"cbar\": None,\n",
    "    \"annot\": True,\n",
    "    \"fmt\": \".0f\",\n",
    "    \"xticklabels\": encoder.classes_,\n",
    "    \"yticklabels\": encoder.classes_,\n",
    "}\n",
    "\n",
    "sns.heatmap(\n",
    "    cnfm,\n",
    "    ax = ax,\n",
    "    **cnfm_settings\n",
    ")\n",
    "\n",
    "ax.set_xlabel('Predicted')\n",
    "ax.set_ylabel('Actual')\n",
    "\n",
    "# plt.tight_layout()\n",
    "plt.show()"
   ]
  },
  {
   "cell_type": "code",
   "execution_count": 32,
   "metadata": {},
   "outputs": [
    {
     "data": {
      "text/html": [
       "<div>\n",
       "<style scoped>\n",
       "    .dataframe tbody tr th:only-of-type {\n",
       "        vertical-align: middle;\n",
       "    }\n",
       "\n",
       "    .dataframe tbody tr th {\n",
       "        vertical-align: top;\n",
       "    }\n",
       "\n",
       "    .dataframe thead th {\n",
       "        text-align: right;\n",
       "    }\n",
       "</style>\n",
       "<table border=\"1\" class=\"dataframe\">\n",
       "  <thead>\n",
       "    <tr style=\"text-align: right;\">\n",
       "      <th></th>\n",
       "      <th>1Pass</th>\n",
       "      <th>2Mild</th>\n",
       "      <th>3Rancid</th>\n",
       "    </tr>\n",
       "  </thead>\n",
       "  <tbody>\n",
       "    <tr>\n",
       "      <th>1Pass</th>\n",
       "      <td>25</td>\n",
       "      <td>2</td>\n",
       "      <td>2</td>\n",
       "    </tr>\n",
       "    <tr>\n",
       "      <th>2Mild</th>\n",
       "      <td>2</td>\n",
       "      <td>30</td>\n",
       "      <td>5</td>\n",
       "    </tr>\n",
       "    <tr>\n",
       "      <th>3Rancid</th>\n",
       "      <td>1</td>\n",
       "      <td>4</td>\n",
       "      <td>20</td>\n",
       "    </tr>\n",
       "  </tbody>\n",
       "</table>\n",
       "</div>"
      ],
      "text/plain": [
       "         1Pass  2Mild  3Rancid\n",
       "1Pass       25      2        2\n",
       "2Mild        2     30        5\n",
       "3Rancid      1      4       20"
      ]
     },
     "execution_count": 32,
     "metadata": {},
     "output_type": "execute_result"
    }
   ],
   "source": [
    "decoded_cnfm = pd.DataFrame(\n",
    "    confusion_matrix(grouped_y, train_pred),\n",
    "    index = encoder.classes_,\n",
    "    columns = encoder.classes_\n",
    ")\n",
    "\n",
    "decoded_cnfm.to_csv(\"../models/automl/train_cnfm.csv\")\n",
    "decoded_cnfm"
   ]
  }
 ],
 "metadata": {
  "kernelspec": {
   "display_name": "mewah",
   "language": "python",
   "name": "python3"
  },
  "language_info": {
   "codemirror_mode": {
    "name": "ipython",
    "version": 3
   },
   "file_extension": ".py",
   "mimetype": "text/x-python",
   "name": "python",
   "nbconvert_exporter": "python",
   "pygments_lexer": "ipython3",
   "version": "3.10.15"
  }
 },
 "nbformat": 4,
 "nbformat_minor": 2
}
