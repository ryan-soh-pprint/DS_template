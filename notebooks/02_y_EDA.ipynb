{
 "cells": [
  {
   "cell_type": "code",
   "execution_count": null,
   "metadata": {},
   "outputs": [
    {
     "name": "stdout",
     "output_type": "stream",
     "text": [
      "Registered profileprint_light_cmap\n",
      "Registered profileprint_diverging_cmap\n"
     ]
    }
   ],
   "source": [
    "import pandas as pd\n",
    "import numpy as np\n",
    "import matplotlib.pyplot as plt\n",
    "import seaborn as sns\n",
    "from pathlib import Path\n",
    "\n",
    "from pptoolbox.visualization import initialize_theme\n",
    "cmaps = initialize_theme()"
   ]
  },
  {
   "cell_type": "markdown",
   "metadata": {},
   "source": [
    "# import and preprocess"
   ]
  },
  {
   "cell_type": "code",
   "execution_count": null,
   "metadata": {},
   "outputs": [],
   "source": [
    "datetime = '241003'"
   ]
  },
  {
   "cell_type": "code",
   "execution_count": null,
   "metadata": {},
   "outputs": [],
   "source": [
    "label_df = pd.read_csv(f'../data/raw/label_{datetime}.csv')\n",
    "label_df"
   ]
  },
  {
   "cell_type": "code",
   "execution_count": null,
   "metadata": {},
   "outputs": [
    {
     "data": {
      "text/plain": [
       "property_value\n",
       "1Pass      29\n",
       "2Mild      30\n",
       "3Rancid    30\n",
       "dtype: int64"
      ]
     },
     "execution_count": 7,
     "metadata": {},
     "output_type": "execute_result"
    }
   ],
   "source": [
    "label_df = label_df.pivot(index=['lot_id','lot_name'],columns=['property_name'],values='property_value').reset_index()\n",
    "label_df"
   ]
  },
  {
   "cell_type": "code",
   "execution_count": null,
   "metadata": {},
   "outputs": [],
   "source": [
    "label_df.value_counts(['Processing','Flavor']).sort_index()"
   ]
  },
  {
   "cell_type": "code",
   "execution_count": null,
   "metadata": {},
   "outputs": [],
   "source": [
    "ax = label_df.value_counts('Rancidity (Class-text)').sort_index().plot(kind='barh')\n",
    "ax.set_xlabel('Number of lots')\n",
    "ax.bar_label(ax.containers[0])\n",
    "ax.title.set_text('Number of lots per grade')"
   ]
  },
  {
   "cell_type": "code",
   "execution_count": null,
   "metadata": {},
   "outputs": [
    {
     "name": "stdout",
     "output_type": "stream",
     "text": [
      "(358, 191) (358, 2)\n"
     ]
    }
   ],
   "source": [
    "output_dir = Path(f\"../data/processed\")\n",
    "output_dir.mkdir(exist_ok=True, parents=True)\n",
    "label_df.to_csv(output_dir/\"label.csv\")"
   ]
  }
 ],
 "metadata": {
  "kernelspec": {
   "display_name": "mewah",
   "language": "python",
   "name": "python3"
  },
  "language_info": {
   "codemirror_mode": {
    "name": "ipython",
    "version": 3
   },
   "file_extension": ".py",
   "mimetype": "text/x-python",
   "name": "python",
   "nbconvert_exporter": "python",
   "pygments_lexer": "ipython3",
   "version": "3.10.15"
  }
 },
 "nbformat": 4,
 "nbformat_minor": 2
}
