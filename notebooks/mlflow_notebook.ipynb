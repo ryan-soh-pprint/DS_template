{
 "cells": [
  {
   "cell_type": "code",
   "execution_count": null,
   "metadata": {},
   "outputs": [],
   "source": [
    "### run below in terminal\n",
    "\n",
    "# mlflow ui --backend-store-uri sqlite:///mlflow.db"
   ]
  },
  {
   "cell_type": "code",
   "execution_count": null,
   "metadata": {},
   "outputs": [],
   "source": [
    "import mlflow\n",
    "import mlflow.sklearn\n",
    "\n",
    "backend_store_uri = \"http://127.0.0.1:5000\"\n",
    "# artifact_store = \"./../mlruns\"  # Local directory\n",
    "\n",
    "mlflow.set_tracking_uri(uri=backend_store_uri)\n",
    "mlflow.set_experiment(\"test_mlflow\")"
   ]
  },
  {
   "cell_type": "code",
   "execution_count": null,
   "metadata": {},
   "outputs": [],
   "source": [
    "with mlflow.start_run():\n",
    "\n",
    "    # Create the hierarchical classifier with encoding\n",
    "    hierarchical_model = HierarchicalClassifier(encoder_mapping)\n",
    "\n",
    "    # Fit the model\n",
    "    hierarchical_model.fit(X_train, y_train_encoded)\n",
    "\n",
    "    # Log the hyperparameters\n",
    "    mlflow.log_params(hierarchical_model.get_params())\n",
    "\n",
    "    # Log the loss metric\n",
    "    mlflow.log_metric(\"check_reject_accuracy\", hierarchical_model.check_reject_trainer.get_best_performance())\n",
    "    mlflow.log_metric(\"pass_mild_accuracy\", hierarchical_model.pass_mild_trainer.get_best_performance())\n",
    "\n",
    "    # Log the model\n",
    "    model_info = mlflow.sklearn.log_model(\n",
    "        sk_model=hierarchical_model,\n",
    "        artifact_path='hierclass_model',\n",
    "        # signature=signature,\n",
    "        input_example=X_train,\n",
    "        registered_model_name=\"test\",\n",
    "    )"
   ]
  }
 ],
 "metadata": {
  "kernelspec": {
   "display_name": "testing",
   "language": "python",
   "name": "python3"
  },
  "language_info": {
   "name": "python",
   "version": "3.10.15"
  }
 },
 "nbformat": 4,
 "nbformat_minor": 2
}
