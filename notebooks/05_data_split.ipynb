{
 "cells": [
  {
   "cell_type": "code",
   "execution_count": 1,
   "metadata": {},
   "outputs": [],
   "source": [
    "import pandas as pd\n",
    "import numpy as np\n",
    "import matplotlib.pyplot as plt\n",
    "import seaborn as sns\n",
    "\n",
    "from pptoolbox.platform import preprocess, WAVELENGTHS_3NM_V1\n",
    "from pptoolbox.platform.automl_v4 import AutoML_v4\n",
    "from pptoolbox.platform.automl_v4.utils import cross_group_predict\n",
    "from pptoolbox.platform.automl_v4.loss_functions import *\n",
    "from pptoolbox.platform.automl_v4.stop_functions import stopping_criteria\n",
    "\n",
    "from sklearn.preprocessing import LabelEncoder\n",
    "from sklearn.model_selection import train_test_split, StratifiedGroupKFold\n",
    "from sklearn.metrics import confusion_matrix, balanced_accuracy_score, f1_score\n",
    "\n",
    "# from skmultilearn.model_selection import iterative_train_test_split\n",
    "\n",
    "import warnings\n",
    "warnings.simplefilter(\"ignore\")\n",
    "\n",
    "import pickle as pkl\n",
    "from pathlib import Path\n",
    "\n",
    "pd.set_option(\"display.max_columns\", None)\n",
    "pd.set_option(\"display.width\", None)\n",
    "\n",
    "# import mlflow\n",
    "# mlflow.set_tracking_uri(uri=\"http://127.0.0.1:8080\")\n",
    "# MLFLOW_TRACKING_URI = \"http://127.0.0.1:8080\" # \"sqlite:///mlflow.db\""
   ]
  },
  {
   "cell_type": "markdown",
   "metadata": {},
   "source": [
    "# import data"
   ]
  },
  {
   "cell_type": "code",
   "execution_count": 2,
   "metadata": {},
   "outputs": [],
   "source": [
    "datasets = {\n",
    "    'full': {},\n",
    "    '750_950': {},\n",
    "}\n",
    "\n",
    "pulldate = \"250319\""
   ]
  },
  {
   "cell_type": "code",
   "execution_count": 3,
   "metadata": {},
   "outputs": [
    {
     "name": "stdout",
     "output_type": "stream",
     "text": [
      "Dataset: full has (253, 191) spectra and (253, 6) label\n",
      "Dataset: 750_950 has (253, 67) spectra and (253, 6) label\n"
     ]
    }
   ],
   "source": [
    "datafolder_path = Path (\"../data/processed\")\n",
    "\n",
    "# lots should be cleaned and preprocessed\n",
    "\n",
    "cleaned_label = pd.read_csv(datafolder_path / f\"cleaned_label.csv\", index_col=0)\n",
    "cleaned_label['scan_month'] = pd.to_datetime(cleaned_label['scan_date'], unit='s')\n",
    "cleaned_label['scan_month'] = cleaned_label['scan_month'].dt.to_period('M')\n",
    "\n",
    "for dataset in datasets:\n",
    "\n",
    "    cleaned_input = pd.read_csv(datafolder_path / f\"cleaned_input.csv\", index_col=0)\n",
    "\n",
    "    if dataset == '750_950':\n",
    "        wavelengths = cleaned_input.columns.astype(float)\n",
    "        feature_mask = (wavelengths >= 750 ) & (wavelengths <= 950)\n",
    "        cleaned_input = cleaned_input.loc[:, feature_mask]\n",
    "\n",
    "    datasets[dataset]['cleaned_input'] = cleaned_input\n",
    "\n",
    "    print(f\"Dataset: {dataset} has {cleaned_input.shape} spectra and {cleaned_label.shape} label\")"
   ]
  },
  {
   "cell_type": "code",
   "execution_count": 4,
   "metadata": {},
   "outputs": [
    {
     "data": {
      "text/html": [
       "<div>\n",
       "<style scoped>\n",
       "    .dataframe tbody tr th:only-of-type {\n",
       "        vertical-align: middle;\n",
       "    }\n",
       "\n",
       "    .dataframe tbody tr th {\n",
       "        vertical-align: top;\n",
       "    }\n",
       "\n",
       "    .dataframe thead th {\n",
       "        text-align: right;\n",
       "    }\n",
       "</style>\n",
       "<table border=\"1\" class=\"dataframe\">\n",
       "  <thead>\n",
       "    <tr style=\"text-align: right;\">\n",
       "      <th></th>\n",
       "      <th>within_spec</th>\n",
       "      <th>era</th>\n",
       "      <th>ing_diff</th>\n",
       "      <th>Lot_Name</th>\n",
       "      <th>scan_date</th>\n",
       "      <th>scan_month</th>\n",
       "    </tr>\n",
       "    <tr>\n",
       "      <th>lot_id</th>\n",
       "      <th></th>\n",
       "      <th></th>\n",
       "      <th></th>\n",
       "      <th></th>\n",
       "      <th></th>\n",
       "      <th></th>\n",
       "    </tr>\n",
       "  </thead>\n",
       "  <tbody>\n",
       "    <tr>\n",
       "      <th>65987</th>\n",
       "      <td>no</td>\n",
       "      <td>old WR</td>\n",
       "      <td>0.1765</td>\n",
       "      <td>P-P49</td>\n",
       "      <td>1709816175</td>\n",
       "      <td>2024-03</td>\n",
       "    </tr>\n",
       "    <tr>\n",
       "      <th>65987</th>\n",
       "      <td>no</td>\n",
       "      <td>old WR</td>\n",
       "      <td>0.1765</td>\n",
       "      <td>P-P49</td>\n",
       "      <td>1709816438</td>\n",
       "      <td>2024-03</td>\n",
       "    </tr>\n",
       "    <tr>\n",
       "      <th>65987</th>\n",
       "      <td>no</td>\n",
       "      <td>old WR</td>\n",
       "      <td>0.1765</td>\n",
       "      <td>P-P49</td>\n",
       "      <td>1709816890</td>\n",
       "      <td>2024-03</td>\n",
       "    </tr>\n",
       "    <tr>\n",
       "      <th>65987</th>\n",
       "      <td>no</td>\n",
       "      <td>old WR</td>\n",
       "      <td>0.1765</td>\n",
       "      <td>P-P49</td>\n",
       "      <td>1709817276</td>\n",
       "      <td>2024-03</td>\n",
       "    </tr>\n",
       "    <tr>\n",
       "      <th>65988</th>\n",
       "      <td>no</td>\n",
       "      <td>old WR</td>\n",
       "      <td>0.1949</td>\n",
       "      <td>P-P50</td>\n",
       "      <td>1709819487</td>\n",
       "      <td>2024-03</td>\n",
       "    </tr>\n",
       "    <tr>\n",
       "      <th>...</th>\n",
       "      <td>...</td>\n",
       "      <td>...</td>\n",
       "      <td>...</td>\n",
       "      <td>...</td>\n",
       "      <td>...</td>\n",
       "      <td>...</td>\n",
       "    </tr>\n",
       "    <tr>\n",
       "      <th>93796</th>\n",
       "      <td>yes</td>\n",
       "      <td>new WR</td>\n",
       "      <td>0.1143</td>\n",
       "      <td>P-P112</td>\n",
       "      <td>1741869172</td>\n",
       "      <td>2025-03</td>\n",
       "    </tr>\n",
       "    <tr>\n",
       "      <th>93797</th>\n",
       "      <td>no</td>\n",
       "      <td>new WR</td>\n",
       "      <td>0.1854</td>\n",
       "      <td>P-P113</td>\n",
       "      <td>1741869611</td>\n",
       "      <td>2025-03</td>\n",
       "    </tr>\n",
       "    <tr>\n",
       "      <th>93797</th>\n",
       "      <td>no</td>\n",
       "      <td>new WR</td>\n",
       "      <td>0.1854</td>\n",
       "      <td>P-P113</td>\n",
       "      <td>1741869965</td>\n",
       "      <td>2025-03</td>\n",
       "    </tr>\n",
       "    <tr>\n",
       "      <th>93797</th>\n",
       "      <td>no</td>\n",
       "      <td>new WR</td>\n",
       "      <td>0.1854</td>\n",
       "      <td>P-P113</td>\n",
       "      <td>1741870418</td>\n",
       "      <td>2025-03</td>\n",
       "    </tr>\n",
       "    <tr>\n",
       "      <th>93797</th>\n",
       "      <td>no</td>\n",
       "      <td>new WR</td>\n",
       "      <td>0.1854</td>\n",
       "      <td>P-P113</td>\n",
       "      <td>1741871137</td>\n",
       "      <td>2025-03</td>\n",
       "    </tr>\n",
       "  </tbody>\n",
       "</table>\n",
       "<p>253 rows × 6 columns</p>\n",
       "</div>"
      ],
      "text/plain": [
       "       within_spec     era  ing_diff Lot_Name   scan_date scan_month\n",
       "lot_id                                                              \n",
       "65987           no  old WR    0.1765    P-P49  1709816175    2024-03\n",
       "65987           no  old WR    0.1765    P-P49  1709816438    2024-03\n",
       "65987           no  old WR    0.1765    P-P49  1709816890    2024-03\n",
       "65987           no  old WR    0.1765    P-P49  1709817276    2024-03\n",
       "65988           no  old WR    0.1949    P-P50  1709819487    2024-03\n",
       "...            ...     ...       ...      ...         ...        ...\n",
       "93796          yes  new WR    0.1143   P-P112  1741869172    2025-03\n",
       "93797           no  new WR    0.1854   P-P113  1741869611    2025-03\n",
       "93797           no  new WR    0.1854   P-P113  1741869965    2025-03\n",
       "93797           no  new WR    0.1854   P-P113  1741870418    2025-03\n",
       "93797           no  new WR    0.1854   P-P113  1741871137    2025-03\n",
       "\n",
       "[253 rows x 6 columns]"
      ]
     },
     "execution_count": 4,
     "metadata": {},
     "output_type": "execute_result"
    }
   ],
   "source": [
    "cleaned_label"
   ]
  },
  {
   "cell_type": "code",
   "execution_count": 33,
   "metadata": {},
   "outputs": [
    {
     "data": {
      "image/png": "[encoded data removed]",
      "text/plain": [
       "<Figure size 1000x500 with 1 Axes>"
      ]
     },
     "metadata": {},
     "output_type": "display_data"
    }
   ],
   "source": [
    "# plot histogram of ing_diff\n",
    "plt.figure(figsize=(10, 5))\n",
    "sns.histplot(cleaned_label['ing_diff'].drop_duplicates(), bins=30)\n",
    "plt.title(\"Histogram of ing_diff\")\n",
    "\n",
    "# add red dotted lines at -0.15 and 0.15\n",
    "plt.axvline(-0.15, color='red', linestyle='dotted')\n",
    "plt.axvline(0.15, color='red', linestyle='dotted')\n",
    "\n",
    "plt.show()"
   ]
  },
  {
   "cell_type": "code",
   "execution_count": 30,
   "metadata": {},
   "outputs": [
    {
     "data": {
      "text/html": [
       "<div>\n",
       "<style scoped>\n",
       "    .dataframe tbody tr th:only-of-type {\n",
       "        vertical-align: middle;\n",
       "    }\n",
       "\n",
       "    .dataframe tbody tr th {\n",
       "        vertical-align: top;\n",
       "    }\n",
       "\n",
       "    .dataframe thead th {\n",
       "        text-align: right;\n",
       "    }\n",
       "</style>\n",
       "<table border=\"1\" class=\"dataframe\">\n",
       "  <thead>\n",
       "    <tr style=\"text-align: right;\">\n",
       "      <th></th>\n",
       "      <th>within_spec</th>\n",
       "      <th>era</th>\n",
       "      <th>ing_diff</th>\n",
       "      <th>Lot_Name</th>\n",
       "      <th>scan_date</th>\n",
       "      <th>scan_month</th>\n",
       "      <th>ing_diff_category</th>\n",
       "    </tr>\n",
       "    <tr>\n",
       "      <th>lot_id</th>\n",
       "      <th></th>\n",
       "      <th></th>\n",
       "      <th></th>\n",
       "      <th></th>\n",
       "      <th></th>\n",
       "      <th></th>\n",
       "      <th></th>\n",
       "    </tr>\n",
       "  </thead>\n",
       "  <tbody>\n",
       "    <tr>\n",
       "      <th>65987</th>\n",
       "      <td>no</td>\n",
       "      <td>old WR</td>\n",
       "      <td>0.1765</td>\n",
       "      <td>P-P49</td>\n",
       "      <td>1709816175</td>\n",
       "      <td>2024-03</td>\n",
       "      <td>Slightly High</td>\n",
       "    </tr>\n",
       "    <tr>\n",
       "      <th>65987</th>\n",
       "      <td>no</td>\n",
       "      <td>old WR</td>\n",
       "      <td>0.1765</td>\n",
       "      <td>P-P49</td>\n",
       "      <td>1709816438</td>\n",
       "      <td>2024-03</td>\n",
       "      <td>Slightly High</td>\n",
       "    </tr>\n",
       "    <tr>\n",
       "      <th>65987</th>\n",
       "      <td>no</td>\n",
       "      <td>old WR</td>\n",
       "      <td>0.1765</td>\n",
       "      <td>P-P49</td>\n",
       "      <td>1709816890</td>\n",
       "      <td>2024-03</td>\n",
       "      <td>Slightly High</td>\n",
       "    </tr>\n",
       "    <tr>\n",
       "      <th>65987</th>\n",
       "      <td>no</td>\n",
       "      <td>old WR</td>\n",
       "      <td>0.1765</td>\n",
       "      <td>P-P49</td>\n",
       "      <td>1709817276</td>\n",
       "      <td>2024-03</td>\n",
       "      <td>Slightly High</td>\n",
       "    </tr>\n",
       "    <tr>\n",
       "      <th>65988</th>\n",
       "      <td>no</td>\n",
       "      <td>old WR</td>\n",
       "      <td>0.1949</td>\n",
       "      <td>P-P50</td>\n",
       "      <td>1709819487</td>\n",
       "      <td>2024-03</td>\n",
       "      <td>High</td>\n",
       "    </tr>\n",
       "    <tr>\n",
       "      <th>...</th>\n",
       "      <td>...</td>\n",
       "      <td>...</td>\n",
       "      <td>...</td>\n",
       "      <td>...</td>\n",
       "      <td>...</td>\n",
       "      <td>...</td>\n",
       "      <td>...</td>\n",
       "    </tr>\n",
       "    <tr>\n",
       "      <th>93796</th>\n",
       "      <td>yes</td>\n",
       "      <td>new WR</td>\n",
       "      <td>0.1143</td>\n",
       "      <td>P-P112</td>\n",
       "      <td>1741869172</td>\n",
       "      <td>2025-03</td>\n",
       "      <td>OK</td>\n",
       "    </tr>\n",
       "    <tr>\n",
       "      <th>93797</th>\n",
       "      <td>no</td>\n",
       "      <td>new WR</td>\n",
       "      <td>0.1854</td>\n",
       "      <td>P-P113</td>\n",
       "      <td>1741869611</td>\n",
       "      <td>2025-03</td>\n",
       "      <td>High</td>\n",
       "    </tr>\n",
       "    <tr>\n",
       "      <th>93797</th>\n",
       "      <td>no</td>\n",
       "      <td>new WR</td>\n",
       "      <td>0.1854</td>\n",
       "      <td>P-P113</td>\n",
       "      <td>1741869965</td>\n",
       "      <td>2025-03</td>\n",
       "      <td>High</td>\n",
       "    </tr>\n",
       "    <tr>\n",
       "      <th>93797</th>\n",
       "      <td>no</td>\n",
       "      <td>new WR</td>\n",
       "      <td>0.1854</td>\n",
       "      <td>P-P113</td>\n",
       "      <td>1741870418</td>\n",
       "      <td>2025-03</td>\n",
       "      <td>High</td>\n",
       "    </tr>\n",
       "    <tr>\n",
       "      <th>93797</th>\n",
       "      <td>no</td>\n",
       "      <td>new WR</td>\n",
       "      <td>0.1854</td>\n",
       "      <td>P-P113</td>\n",
       "      <td>1741871137</td>\n",
       "      <td>2025-03</td>\n",
       "      <td>High</td>\n",
       "    </tr>\n",
       "  </tbody>\n",
       "</table>\n",
       "<p>253 rows × 7 columns</p>\n",
       "</div>"
      ],
      "text/plain": [
       "       within_spec     era  ing_diff Lot_Name   scan_date scan_month  \\\n",
       "lot_id                                                                 \n",
       "65987           no  old WR    0.1765    P-P49  1709816175    2024-03   \n",
       "65987           no  old WR    0.1765    P-P49  1709816438    2024-03   \n",
       "65987           no  old WR    0.1765    P-P49  1709816890    2024-03   \n",
       "65987           no  old WR    0.1765    P-P49  1709817276    2024-03   \n",
       "65988           no  old WR    0.1949    P-P50  1709819487    2024-03   \n",
       "...            ...     ...       ...      ...         ...        ...   \n",
       "93796          yes  new WR    0.1143   P-P112  1741869172    2025-03   \n",
       "93797           no  new WR    0.1854   P-P113  1741869611    2025-03   \n",
       "93797           no  new WR    0.1854   P-P113  1741869965    2025-03   \n",
       "93797           no  new WR    0.1854   P-P113  1741870418    2025-03   \n",
       "93797           no  new WR    0.1854   P-P113  1741871137    2025-03   \n",
       "\n",
       "       ing_diff_category  \n",
       "lot_id                    \n",
       "65987      Slightly High  \n",
       "65987      Slightly High  \n",
       "65987      Slightly High  \n",
       "65987      Slightly High  \n",
       "65988               High  \n",
       "...                  ...  \n",
       "93796                 OK  \n",
       "93797               High  \n",
       "93797               High  \n",
       "93797               High  \n",
       "93797               High  \n",
       "\n",
       "[253 rows x 7 columns]"
      ]
     },
     "execution_count": 30,
     "metadata": {},
     "output_type": "execute_result"
    }
   ],
   "source": [
    "# Define fixed \"OK\" range\n",
    "low_range = (-np.inf, -0.15)\n",
    "ok_range = (-0.15, 0.15)\n",
    "slightlyhigh_range = (0.15, 0.18)\n",
    "high_range = (0.18, 0.25)\n",
    "veryhigh_range = (0.25, np.inf)\n",
    "\n",
    "bins = [low_range[0], low_range[1], ok_range[1], slightlyhigh_range[1], high_range[1], veryhigh_range[1]]\n",
    "\n",
    "# Define labels\n",
    "labels = ['Low', 'OK', 'Slightly High', 'High', 'Very High']\n",
    "\n",
    "# Assign bins\n",
    "cleaned_label['ing_diff_category'] = pd.cut(cleaned_label['ing_diff'], bins=bins, labels=labels, include_lowest=True)\n",
    "\n",
    "cleaned_label"
   ]
  },
  {
   "cell_type": "code",
   "execution_count": 31,
   "metadata": {},
   "outputs": [
    {
     "data": {
      "text/plain": [
       "OK               165\n",
       "Slightly High     28\n",
       "High              28\n",
       "Very High         20\n",
       "Low               12\n",
       "Name: ing_diff_category, dtype: int64"
      ]
     },
     "execution_count": 31,
     "metadata": {},
     "output_type": "execute_result"
    }
   ],
   "source": [
    "cleaned_label['ing_diff_category'].value_counts()"
   ]
  },
  {
   "cell_type": "code",
   "execution_count": 34,
   "metadata": {},
   "outputs": [
    {
     "data": {
      "image/png": "[encoded data removed]",
      "text/plain": [
       "<Figure size 800x500 with 1 Axes>"
      ]
     },
     "metadata": {},
     "output_type": "display_data"
    }
   ],
   "source": [
    "plt.figure(figsize=(8, 5))\n",
    "sns.histplot(data=cleaned_label, x=\"ing_diff\", hue=\"ing_diff_category\", bins=30)\n",
    "\n",
    "# Labels and title\n",
    "plt.xlabel(\"Ingredient Difference (ing_diff)\")\n",
    "plt.ylabel(\"Frequency\")\n",
    "plt.title(\"Distribution of ing_diff\")\n",
    "\n",
    "# add red dotted lines at -0.15 and 0.15\n",
    "plt.axvline(-0.15, color='red', linestyle='dotted')\n",
    "plt.axvline(0.15, color='red', linestyle='dotted')\n",
    "plt.show()"
   ]
  },
  {
   "cell_type": "markdown",
   "metadata": {},
   "source": [
    "# train test split random"
   ]
  },
  {
   "cell_type": "code",
   "execution_count": null,
   "metadata": {},
   "outputs": [],
   "source": [
    "# # random split\n",
    "# def train_test_split_lot_level (label_df, test_size=0.1):\n",
    "#     label = label_df.set_index('lot_id')\n",
    "#     sorted_idx = label.index.unique()\n",
    "#     train_label, test_label = train_test_split(label.loc[sorted_idx], \n",
    "#                                                  test_size=test_size, \n",
    "#                                                  stratify=label.loc[sorted_idx]['ABOVE_BELOW_5pct_Dwarf'],\n",
    "#                                                  shuffle=True, \n",
    "#                                                  random_state=42)\n",
    "    \n",
    "#     train_idx = train_label.index.sort_values()\n",
    "#     test_idx = test_label.index.sort_values()\n",
    "\n",
    "#     return train_idx, test_idx\n",
    "\n",
    "# train_index, test_index = train_test_split_lot_level(label_df)\n",
    "# print(train_index, test_index)\n",
    "\n",
    "# #is test_idx in train_idx\n",
    "# print(f'Is test index subset of train index? {set(test_index).issubset(set(train_index))}')\n"
   ]
  },
  {
   "cell_type": "markdown",
   "metadata": {},
   "source": [
    "# split by time"
   ]
  },
  {
   "cell_type": "code",
   "execution_count": 38,
   "metadata": {},
   "outputs": [
    {
     "data": {
      "image/png": "[encoded data removed]",
      "text/plain": [
       "<Figure size 1000x600 with 1 Axes>"
      ]
     },
     "metadata": {},
     "output_type": "display_data"
    }
   ],
   "source": [
    "# plot distribution of date_scanned coloured by param\n",
    "\n",
    "label_df = cleaned_label.copy()\n",
    "label_df = label_df[~label_df.index.duplicated(keep='first')]\n",
    "\n",
    "fig = plt.figure(figsize=(10, 6))\n",
    "sns.countplot(\n",
    "    data=label_df, \n",
    "    x='scan_month', \n",
    "    hue='ing_diff_category', \n",
    "    # hue_order=['yes', 'no']\n",
    "    )\n",
    "plt.xticks(rotation=90)\n",
    "\n",
    "fig.show()"
   ]
  },
  {
   "cell_type": "code",
   "execution_count": 50,
   "metadata": {},
   "outputs": [
    {
     "name": "stdout",
     "output_type": "stream",
     "text": [
      "train and test is disjoint: True\n",
      "(52,) (12,)\n"
     ]
    }
   ],
   "source": [
    "# i want to set the last 20 % of the data as test set, stratified by Rancidity (Class-text)\n",
    "\n",
    "# Function to split last 20% as test set for each category\n",
    "def split_last_20_percent(group):\n",
    "    test_size = int(len(group) * 0.2)  # 20% of the group\n",
    "\n",
    "    # ensure that test set has at least 1 sample from each category\n",
    "    if test_size == 0:\n",
    "        test_size = 1\n",
    "\n",
    "    test_set = group.iloc[-test_size:]  # Last 20% as test set\n",
    "    train_set = group.iloc[:-test_size]  # Remaining 80% as train set\n",
    "    train_idx = train_set.index\n",
    "    test_idx = test_set.index\n",
    "    return train_idx, test_idx\n",
    "\n",
    "# Apply function to each Rancidity category\n",
    "train_idxs, test_idxs = zip(*label_df.groupby('ing_diff_category').apply(split_last_20_percent))\n",
    "\n",
    "# Combine train and test indices\n",
    "train_idx = np.concatenate(train_idxs)\n",
    "test_idx = np.concatenate(test_idxs)\n",
    "\n",
    "# Check if train and test indices are disjoint\n",
    "print(f'train and test is disjoint: {set(train_idx).isdisjoint(set(test_idx))}')\n",
    "\n",
    "# print shape of train and test indices\n",
    "print(train_idx.shape, test_idx.shape)"
   ]
  },
  {
   "cell_type": "code",
   "execution_count": 65,
   "metadata": {},
   "outputs": [
    {
     "name": "stdout",
     "output_type": "stream",
     "text": [
      "\n",
      "Processing full dataset\n",
      "cleaned_input: (253, 191), cleaned_label: (253, 7)\n",
      "cleaned_label: (253, 8), train_idx: (52,), test_idx: (12,)\n",
      "X_train: (205, 191), y_train: (205, 7)\n",
      "X_test: (48, 191), y_test: (48, 7)\n",
      "\n",
      "Processing 750_950 dataset\n",
      "cleaned_input: (253, 67), cleaned_label: (253, 7)\n",
      "cleaned_label: (253, 8), train_idx: (52,), test_idx: (12,)\n",
      "X_train: (205, 67), y_train: (205, 7)\n",
      "X_test: (48, 67), y_test: (48, 7)\n"
     ]
    }
   ],
   "source": [
    "for dataset in datasets:\n",
    "    print(f'\\nProcessing {dataset} dataset')\n",
    "    save_dir = f\"../data/processed/timesplit/{dataset}\"\n",
    "    Path(save_dir).mkdir(parents=True, exist_ok=True)\n",
    "\n",
    "    cleaned_input = datasets[dataset]['cleaned_input']\n",
    "    print(f'cleaned_input: {cleaned_input.shape}, cleaned_label: {cleaned_label.shape}')\n",
    "\n",
    "    # train_idx = datasets[dataset]['train_idx']\n",
    "    # test_idx = datasets[dataset]['test_idx']\n",
    "    print(f'cleaned_label: {cleaned_label.reset_index().drop_duplicates().shape}, train_idx: {train_idx.shape}, test_idx: {test_idx.shape}')\n",
    "\n",
    "    X_train = cleaned_input[cleaned_input.index.isin(train_idx)]\n",
    "    X_test = cleaned_input[cleaned_input.index.isin(test_idx)]\n",
    "    y_train = cleaned_label[cleaned_label.index.isin(train_idx)]\n",
    "    y_test = cleaned_label[cleaned_label.index.isin(test_idx)]\n",
    "\n",
    "    print(f'X_train: {X_train.shape}, y_train: {y_train.shape}')\n",
    "    print(f'X_test: {X_test.shape}, y_test: {y_test.shape}')\n",
    "\n",
    "    X_train.to_csv(f'{save_dir}/Xtrain.csv')\n",
    "    X_test.to_csv(f'{save_dir}/Xtest.csv')\n",
    "    y_train.to_csv(f'{save_dir}/ytrain.csv')\n",
    "    y_test.to_csv(f'{save_dir}/ytest.csv')\n",
    "\n",
    "    datasets[dataset]['X_train'] = X_train\n",
    "    datasets[dataset]['X_test'] = X_test\n",
    "    datasets[dataset]['y_train'] = y_train\n",
    "    datasets[dataset]['y_test'] = y_test"
   ]
  },
  {
   "cell_type": "code",
   "execution_count": 66,
   "metadata": {},
   "outputs": [
    {
     "data": {
      "text/plain": [
       "ing_diff_category\n",
       "OK               34\n",
       "Slightly High     6\n",
       "High              6\n",
       "Very High         4\n",
       "Low               2\n",
       "dtype: int64"
      ]
     },
     "execution_count": 66,
     "metadata": {},
     "output_type": "execute_result"
    }
   ],
   "source": [
    "y_train.drop_duplicates('Lot_Name').value_counts('ing_diff_category')"
   ]
  },
  {
   "cell_type": "code",
   "execution_count": 67,
   "metadata": {},
   "outputs": [
    {
     "data": {
      "text/plain": [
       "ing_diff_category\n",
       "OK               8\n",
       "Low              1\n",
       "Slightly High    1\n",
       "High             1\n",
       "Very High        1\n",
       "dtype: int64"
      ]
     },
     "execution_count": 67,
     "metadata": {},
     "output_type": "execute_result"
    }
   ],
   "source": [
    "y_test.drop_duplicates('Lot_Name').value_counts('ing_diff_category')"
   ]
  }
 ],
 "metadata": {
  "kernelspec": {
   "display_name": "adisseo",
   "language": "python",
   "name": "python3"
  },
  "language_info": {
   "codemirror_mode": {
    "name": "ipython",
    "version": 3
   },
   "file_extension": ".py",
   "mimetype": "text/x-python",
   "name": "python",
   "nbconvert_exporter": "python",
   "pygments_lexer": "ipython3",
   "version": "3.10.15"
  }
 },
 "nbformat": 4,
 "nbformat_minor": 2
}
