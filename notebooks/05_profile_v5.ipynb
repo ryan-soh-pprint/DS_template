{
 "cells": [
  {
   "cell_type": "code",
   "execution_count": 1,
   "metadata": {},
   "outputs": [],
   "source": [
    "import pandas as pd\n",
    "import numpy as np\n",
    "\n",
    "from pathlib import Path\n",
    "\n",
    "from sklearn.model_selection import train_test_split,cross_val_predict, StratifiedGroupKFold, GroupKFold\n",
    "\n",
    "from pptoolbox.platform.preprocessing import preprocess_v2\n",
    "from pptoolbox.platform.automl_v4 import AutoML_v4\n",
    "from pptoolbox.platform.automl_v4.pipelines import META_REGRESSION_PIPELINES\n",
    "from pptoolbox.platform.utils import regression_predict\n",
    "from pptoolbox.utils import load_pf_legacy_models\n",
    "\n",
    "import glob\n",
    "import re\n",
    "import json\n",
    "import seaborn as sns\n",
    "import matplotlib.pyplot as plt"
   ]
  },
  {
   "cell_type": "markdown",
   "metadata": {},
   "source": [
    "# Helper Utils"
   ]
  },
  {
   "cell_type": "code",
   "execution_count": 2,
   "metadata": {},
   "outputs": [],
   "source": [
    "# Dumping meta utils here. \n",
    "# Algorithm design still undergoing testing. not yet stable for pptoolbox?\n",
    "import warnings\n",
    "from typing import Literal, Optional\n",
    "import pandas as pd\n",
    "import numpy as np\n",
    "from sklearn.pipeline import Pipeline\n",
    "from sklearn.model_selection import BaseCrossValidator, cross_val_predict\n",
    "\n",
    "\n",
    "AUTOML_MODE_OPTIONS = [\"classify\", \"profile\"]\n",
    "\n",
    "def create_meta_datasets_splits(\n",
    "    estimators: list[list[Pipeline]],\n",
    "    datasets: list[pd.DataFrame],\n",
    "    y: pd.Series,\n",
    "    groups: np.ndarray,\n",
    "    outer_cv: BaseCrossValidator,\n",
    "    inner_cv: BaseCrossValidator,\n",
    "    mode: Literal[AUTOML_MODE_OPTIONS] = \"classify\",\n",
    ") -> tuple[pd.DataFrame, pd.Series, np.ndarray]:\n",
    "    \"\"\"\n",
    "    Custom pre-processing for meta-model cross validation flow\n",
    "    This flow assumes we maintain the same split indexes across all hyperparams to be tested.\n",
    "    Because of this, we can pre-calculate the features being input to meta-model\n",
    "    Instead of re-fitting the same estimator at each fold\n",
    "    \"\"\"\n",
    "    if mode not in AUTOML_MODE_OPTIONS:\n",
    "        raise ValueError(f\"Unexpected mode: {mode}. Expected {AUTOML_MODE_OPTIONS}\")\n",
    "    if len(datasets) == 1:\n",
    "        raise ValueError(\n",
    "            \"This is meant for data fusion. Check your input is a List of pandas.DataFrame\"\n",
    "        )\n",
    "\n",
    "    for X in datasets[1:]:\n",
    "        if len(X) != len(datasets[0]):\n",
    "            raise IndexError(\n",
    "                f\"Lengths of input datasets do not match ({datasets[0].shape[0]}), ({X.shape[0]})\"\n",
    "            )\n",
    "\n",
    "    for i, estimator_list in enumerate(estimators):\n",
    "        if type(estimator_list) != list:\n",
    "            if type(estimator_list) == Pipeline:\n",
    "                warnings.warn(\"Single estimator detected. Converting to list\")\n",
    "                estimators[i] = [estimator_list]\n",
    "            else:\n",
    "                raise ValueError(\"estimators should be a list of lists of Pipelines\")\n",
    "\n",
    "    if len(datasets) != len(estimators):\n",
    "        raise ValueError(\n",
    "            \"Length of datasets and estimators do not match. Check your inputs\"\n",
    "        )\n",
    "\n",
    "    if mode == \"classify\":\n",
    "        n_classes = len(np.unique(y))\n",
    "    else:\n",
    "        n_classes = 1\n",
    "\n",
    "    n = len(datasets[0])\n",
    "    m_list = [0] + [len(estimator_list) for estimator_list in estimators]\n",
    "    m = sum(m_list) * n_classes\n",
    "    k = outer_cv.get_n_splits()\n",
    "\n",
    "    new_indices = np.concatenate([datasets[0].index] * k)\n",
    "    meta_X = np.zeros((n * k, m))\n",
    "    meta_y = pd.Series(np.concatenate([y] * k), index=new_indices)\n",
    "    splits_idx = np.zeros((n * k, 2))\n",
    "\n",
    "    for fold_idx, (train_idx, test_idx) in enumerate(\n",
    "        outer_cv.split(datasets[0], y, groups=groups)\n",
    "    ):\n",
    "        y_train = y.iloc[train_idx]\n",
    "        splits_idx[n * fold_idx : n * (fold_idx + 1), 0] = fold_idx\n",
    "        splits_idx[test_idx + (n * fold_idx), 1] = 1\n",
    "\n",
    "        for i in range(len(datasets)):\n",
    "            X = datasets[i]\n",
    "            for j, estimator in enumerate(estimators[i]):\n",
    "                X_train = X.iloc[train_idx]\n",
    "                X_test = X.iloc[test_idx]\n",
    "\n",
    "                if mode == \"classify\":\n",
    "                    # Classification Flow\n",
    "                    preds_train = cross_val_predict(\n",
    "                        estimator,\n",
    "                        X_train,\n",
    "                        y_train,\n",
    "                        groups=X_train.index,\n",
    "                        cv=inner_cv,\n",
    "                        method=\"predict_proba\",\n",
    "                    )\n",
    "                    estimator.fit(X_train, y_train)\n",
    "                    preds_test = estimator.predict_proba(X_test)\n",
    "                else:\n",
    "                    # Regression Flow\n",
    "                    preds_train = cross_val_predict(\n",
    "                        estimator,\n",
    "                        X_train,\n",
    "                        y_train,\n",
    "                        groups=X_train.index,\n",
    "                        cv=inner_cv,\n",
    "                        method=\"predict\",\n",
    "                    )\n",
    "                    estimator.fit(X_train, y_train)\n",
    "                    preds_test = estimator.predict(X_test)\n",
    "\n",
    "                meta_X[\n",
    "                    train_idx + n * fold_idx,\n",
    "                    n_classes * (j + m_list[i]) : n_classes * (j + 1 + m_list[i]),\n",
    "                ] = preds_train.reshape(X_train.shape[0], n_classes)\n",
    "                meta_X[\n",
    "                    test_idx + n * fold_idx,\n",
    "                    n_classes * (j + m_list[i]) : n_classes * (j + 1 + m_list[i]),\n",
    "                ] = preds_test.reshape(X_test.shape[0], n_classes)\n",
    "\n",
    "    meta_X = pd.DataFrame(meta_X, index=new_indices)\n",
    "\n",
    "    return meta_X, meta_y, splits_idx\n",
    "\n",
    "\n",
    "class CustomMetaSplitter(BaseCrossValidator):\n",
    "    def __init__(self, split_idx: np.ndarray):\n",
    "        self.splits = split_idx\n",
    "        self.n_splits = len(np.unique(split_idx[:, 0]))\n",
    "\n",
    "    def get_n_splits(\n",
    "        self, X: Optional = None, y: Optional = None, groups: Optional = None\n",
    "    ) -> int:\n",
    "        return self.n_splits\n",
    "\n",
    "    def split(self, X: Optional = None, y: Optional = None, groups: Optional = None):\n",
    "        for i in range(self.n_splits):\n",
    "            train_idx = np.where((self.splits[:, 0] == i) & (self.splits[:, 1] == 0))[0]\n",
    "            test_idx = np.where((self.splits[:, 0] == i) & (self.splits[:, 1] == 1))[0]\n",
    "            yield train_idx, test_idx\n",
    "\n"
   ]
  },
  {
   "cell_type": "code",
   "execution_count": 3,
   "metadata": {},
   "outputs": [],
   "source": [
    "def initialise_trainer(task_type ='classify', log=False, experiment_name='', mlflow_uri=None, *args, **kwargs):\n",
    "    trainer = AutoML_v4(task_type = task_type, log = log, *args, **kwargs) # edited exploration runs\n",
    "    if log == True:\n",
    "        trainer.set_log_config(\n",
    "            experiment_name = f\"{experiment_name}\",\n",
    "            mlflow_uri = mlflow_uri\n",
    "        )\n",
    "    return trainer"
   ]
  },
  {
   "cell_type": "code",
   "execution_count": 4,
   "metadata": {},
   "outputs": [],
   "source": [
    "def generate_metafeatures_profile(datasets, estimators, y, cv=GroupKFold(n_splits=3)):\n",
    "    n_classes = 1\n",
    "    for i, estimator_list in enumerate(estimators):\n",
    "        if type(estimator_list) != list:\n",
    "            if type(estimator_list) == Pipeline:\n",
    "                # warnings.warn(\"Single estimator detected. Converting to list\")\n",
    "                estimators[i] = [estimator_list]\n",
    "            else:\n",
    "                raise ValueError(\"estimators should be a list of lists of Pipelines\")\n",
    "    n = len(datasets[0])\n",
    "    m_list = [0] + [len(estimator_list) for estimator_list in estimators]\n",
    "    m = sum(m_list) * n_classes\n",
    "\n",
    "    X_meta = np.zeros([n,m])\n",
    "    for i in range(len(datasets)):\n",
    "        X = datasets[i]\n",
    "        for j, estimator in enumerate(estimators[i]):\n",
    "            y_preds = cross_val_predict(estimator, X, y, groups=X.index, cv=cv, method='predict')\n",
    "\n",
    "            X_meta[\n",
    "                :,\n",
    "                n_classes * (j + m_list[i]) : n_classes * (j + 1 + m_list[i]),\n",
    "            ] = y_preds.reshape(n, n_classes)\n",
    "            pass\n",
    "\n",
    "    return X_meta\n"
   ]
  },
  {
   "cell_type": "code",
   "execution_count": 5,
   "metadata": {},
   "outputs": [],
   "source": [
    "\"\"\"Combined file simulating platform utils file.\"\"\"\n",
    "import pandas as pd\n",
    "import numpy as np\n",
    "\n",
    "import os\n",
    "import pickle as pkl\n",
    "from typing import Annotated, List, Tuple, Optional\n",
    "\n",
    "from sklearn.model_selection import cross_val_predict\n",
    "from sklearn.model_selection import StratifiedGroupKFold\n",
    "from sklearn.metrics import confusion_matrix\n",
    "from pptoolbox.platform.automl_v4 import cross_group_predict\n",
    "from pptoolbox.platform.automl_v4 import AutoML_v4\n",
    "\n",
    "# Dump to file\n",
    "def model_dump_regression(trainer: AutoML_v4, estimator, y: pd.Series, output_dir: str, suffix: str=\"\"):\n",
    "    # Dumps with this function will be done on a single label basis\n",
    "    # This is only a partial dump. Final model needs to be selected by higher level function after reviewing metrics\n",
    "    label = y.name\n",
    "\n",
    "    pkl.dump(\n",
    "        estimator, \n",
    "        open(os.path.join(output_dir, f\"tasteprofile_model_{label}{suffix}.pkl\"), \"wb\")\n",
    "    )\n",
    "    pkl.dump(\n",
    "        trainer, \n",
    "        open(os.path.join(output_dir, f\"trainer_{label}{suffix}.pkl\"), \"wb\")\n",
    "    )\n",
    "\n",
    "    # Get CV metrics from AutoML trainer\n",
    "    metrics = generate_regression_metrics(trainer, y)\n",
    "\n",
    "    return metrics\n",
    "\n",
    "# Get Regression CV metrics from AutoML trainer\n",
    "def generate_regression_metrics(trainer, y):\n",
    "    best_trial = trainer.get_best_trial()\n",
    "    best_cv_results = best_trial[\"result\"][\"cv_results\"]\n",
    "\n",
    "    pmae_range = abs(y.max() - y.min())\n",
    "    cv_mae = -best_cv_results[\"test_neg_mean_absolute_error\"]\n",
    "    cv_pmae = (cv_mae * 100) / pmae_range\n",
    "\n",
    "    metrics = {\n",
    "        \"model\": trainer.get_pipeline_name(), \n",
    "        \"param\": y.name,\n",
    "        \"r2\": best_cv_results[\"test_r2\"],\n",
    "        \"mae\": -best_cv_results[\"test_neg_mean_absolute_error\"],\n",
    "        \"mse\": -best_cv_results[\"test_neg_mean_squared_error\"],\n",
    "        \"rmse\": -best_cv_results[\"test_neg_root_mean_squared_error\"],\n",
    "        \"max_error\": best_cv_results[\"test_max_error\"],\n",
    "        \"pmae\": cv_pmae,\n",
    "    }\n",
    "\n",
    "    return metrics\n",
    "\n",
    "from pptoolbox.visualization.reg_visualizers import get_reg_figures\n",
    "def dump_images_regression(estimator, X:pd.DataFrame, y:pd.Series, output_dir:str, suffix:str='None'):\n",
    "\n",
    "    fig1, fig2 = get_reg_figures(\n",
    "        model=estimator,\n",
    "        Xtrain=X,\n",
    "        ytrain=y,\n",
    "        test=False,\n",
    "    )\n",
    "    im_dir = Path(output_dir / 'images')\n",
    "    im_dir.mkdir(exist_ok=True)\n",
    "    label = y.name\n",
    "    \n",
    "    # Prediction error fig (Actual vs Predicted)\n",
    "    fig1.update_layout(title=suffix)\n",
    "    output_path = Path(im_dir / f\"prederror_{label}{suffix}.html\")\n",
    "    fig1.write_html(output_path)\n",
    "\n",
    "    # Residuals fig\n",
    "    fig2.update_layout(title=suffix)\n",
    "    output_path = Path(im_dir / f\"residuals_{label}{suffix}.html\")\n",
    "    fig2.write_html(output_path)\n",
    "\n",
    "    return None\n"
   ]
  },
  {
   "cell_type": "markdown",
   "metadata": {},
   "source": [
    "# Init"
   ]
  },
  {
   "cell_type": "code",
   "execution_count": 88,
   "metadata": {},
   "outputs": [
    {
     "name": "stdout",
     "output_type": "stream",
     "text": [
      "(99, 35) (25, 8)\n"
     ]
    }
   ],
   "source": [
    "# Initialise configs\n",
    "input_file = Path(\"../data/processed/cleaned_input.csv\")\n",
    "label_file = Path(\"../data/processed/cleaned_label.csv\")\n",
    "\n",
    "input_df = pd.read_csv(input_file) \n",
    "label_df = pd.read_csv(label_file)\n",
    "\n",
    "N_SPLITS = 3\n",
    "DEFAULT_CV = GroupKFold(n_splits=N_SPLITS)\n",
    "\n",
    "print(input_df.shape, label_df.shape)"
   ]
  },
  {
   "cell_type": "code",
   "execution_count": 89,
   "metadata": {},
   "outputs": [],
   "source": [
    "# label_df = label_df[label_df['Dwarf'] != 100]\n",
    "# label_df"
   ]
  },
  {
   "cell_type": "markdown",
   "metadata": {},
   "source": [
    "## filter data"
   ]
  },
  {
   "cell_type": "markdown",
   "metadata": {},
   "source": [
    "## train test split random"
   ]
  },
  {
   "cell_type": "code",
   "execution_count": 90,
   "metadata": {},
   "outputs": [
    {
     "name": "stdout",
     "output_type": "stream",
     "text": [
      "Int64Index([86843, 86844, 86845, 86846, 86847, 86848, 86849, 86850, 86851,\n",
      "            86852, 86853, 86854, 86856, 86857, 86859, 86860, 86994, 86995,\n",
      "            86996, 86997, 86998, 87005],\n",
      "           dtype='int64', name='lot_id') Int64Index([86855, 86858, 86993], dtype='int64', name='lot_id')\n",
      "Is test index subset of train index? False\n"
     ]
    }
   ],
   "source": [
    "# random split\n",
    "def train_test_split_lot_level (label_df, test_size=0.1):\n",
    "    label = label_df.set_index('lot_id')\n",
    "    sorted_idx = label.index.unique()\n",
    "    train_label, test_label = train_test_split(label.loc[sorted_idx], \n",
    "                                                 test_size=test_size, \n",
    "                                                 stratify=label.loc[sorted_idx]['ABOVE_BELOW_5pct_Dwarf'],\n",
    "                                                 shuffle=True, \n",
    "                                                 random_state=42)\n",
    "    \n",
    "    train_idx = train_label.index.sort_values()\n",
    "    test_idx = test_label.index.sort_values()\n",
    "\n",
    "    return train_idx, test_idx\n",
    "\n",
    "train_index, test_index = train_test_split_lot_level(label_df)\n",
    "print(train_index, test_index)\n",
    "\n",
    "#is test_idx in train_idx\n",
    "print(f'Is test index subset of train index? {set(test_index).issubset(set(train_index))}')\n"
   ]
  },
  {
   "cell_type": "markdown",
   "metadata": {},
   "source": [
    "## timesplit"
   ]
  },
  {
   "cell_type": "code",
   "execution_count": 91,
   "metadata": {},
   "outputs": [
    {
     "name": "stdout",
     "output_type": "stream",
     "text": [
      "Int64Index([86843, 86844, 86845, 86846, 86847, 86848, 86849, 86850, 86851,\n",
      "            86852, 86853, 86854, 86855, 86856, 86857, 86858, 86859, 86860],\n",
      "           dtype='int64', name='lot_id') Int64Index([86993, 86994, 86995, 86996, 86997, 86998, 87005], dtype='int64', name='lot_id')\n",
      "Is test index subset of train index? False\n"
     ]
    }
   ],
   "source": [
    "# train index is where replicate is not s2, test index is where replicate is s2\n",
    "label_df_temp = label_df.copy()\n",
    "label_df_temp = label_df_temp.set_index('lot_id')\n",
    "train_index = label_df_temp[~label_df_temp['replicate'].str.contains('s')].index\n",
    "test_index = label_df_temp[label_df_temp['replicate'].str.contains('s')].index\n",
    "\n",
    "print(train_index, test_index)\n",
    "\n",
    "#is test_idx in train_idx\n",
    "print(f'Is test index subset of train index? {set(test_index).issubset(set(train_index))}')\n"
   ]
  },
  {
   "cell_type": "code",
   "execution_count": 92,
   "metadata": {},
   "outputs": [
    {
     "name": "stdout",
     "output_type": "stream",
     "text": [
      "(71, 35) (71, 8) (28, 35) (28, 8)\n"
     ]
    }
   ],
   "source": [
    "output_dir = Path(f\"../data/processed/time_split\")\n",
    "output_dir.mkdir(exist_ok=True, parents=True)\n",
    "\n",
    "X_train = input_df.set_index('lot_id').loc[train_index]\n",
    "X_test = input_df.set_index('lot_id').loc[test_index]\n",
    "y_train = label_df.set_index('lot_id').loc[X_train.index]\n",
    "y_test = label_df.set_index('lot_id').loc[X_test.index]\n",
    "\n",
    "X_train.to_csv(f'{output_dir}/Xtrain.csv')\n",
    "X_test.to_csv(f'{output_dir}/Xtest.csv')\n",
    "y_train.to_csv(f'{output_dir}/ytrain.csv')\n",
    "y_test.to_csv(f'{output_dir}/ytest.csv')\n",
    "\n",
    "X_train = X_train.reset_index()\n",
    "X_test = X_test.reset_index()\n",
    "y_train = y_train.reset_index()\n",
    "y_test = y_test.reset_index()\n",
    "\n",
    "# X_train = pd.read_csv(f'{output_dir}/Xtrain.csv')\n",
    "# X_test = pd.read_csv(f'{output_dir}/Xtest.csv')\n",
    "# y_train = pd.read_csv(f'{output_dir}/ytrain.csv')\n",
    "# y_test = pd.read_csv(f'{output_dir}/ytest.csv')\n",
    "\n",
    "print(X_train.shape,y_train.shape,X_test.shape,y_test.shape)"
   ]
  },
  {
   "cell_type": "markdown",
   "metadata": {},
   "source": [
    "## preprocess"
   ]
  },
  {
   "cell_type": "code",
   "execution_count": 93,
   "metadata": {},
   "outputs": [
    {
     "name": "stdout",
     "output_type": "stream",
     "text": [
      "(71, 191) (71, 89) (71, 6)\n",
      "(28, 191) (28, 89) (28, 6)\n"
     ]
    }
   ],
   "source": [
    "y_train_og = y_train.copy(deep=True)\n",
    "y_test_og = y_test.copy(deep=True)\n",
    "y_train = y_train.drop(columns=['lot_name'])\n",
    "y_test = y_test.drop(columns=['lot_name'])\n",
    "\n",
    "X_visnir_train, X_exnir_train, y_train, datatype = preprocess_v2(X_train, y_train)\n",
    "X_visnir_test, X_exnir_test, y_test, datatype = preprocess_v2(X_test, y_test)\n",
    "\n",
    "print(X_visnir_train.shape, X_exnir_train.shape, y_train.shape)\n",
    "print(X_visnir_test.shape, X_exnir_test.shape, y_test.shape)"
   ]
  },
  {
   "cell_type": "markdown",
   "metadata": {},
   "source": [
    "## select property"
   ]
  },
  {
   "cell_type": "code",
   "execution_count": 94,
   "metadata": {},
   "outputs": [
    {
     "name": "stdout",
     "output_type": "stream",
     "text": [
      "Index(['Dwarf', 'Tall', 'Preservative', 'Farm', 'replicate',\n",
      "       'ABOVE_BELOW_5pct_Dwarf'],\n",
      "      dtype='object')\n",
      "\n",
      "selected for training: ['Dwarf']\n"
     ]
    }
   ],
   "source": [
    "print (y_train.columns)\n",
    "labels = list(y_train.columns[[0]])\n",
    "print(f'\\nselected for training: {labels}')"
   ]
  },
  {
   "cell_type": "markdown",
   "metadata": {},
   "source": [
    "# modify index to train test on specimen level"
   ]
  },
  {
   "cell_type": "code",
   "execution_count": 52,
   "metadata": {},
   "outputs": [
    {
     "name": "stdout",
     "output_type": "stream",
     "text": [
      "(71, 89) (71, 191) (71, 6)\n",
      "(28, 89) (28, 191) (28, 6)\n"
     ]
    }
   ],
   "source": [
    "# append 0,1,2,3 to lot_id based on occurrence\n",
    "\n",
    "def specimen_to_lot (df):\n",
    "    df_temp = df.copy()\n",
    "    df_temp=df_temp.reset_index()\n",
    "    df_temp[\"lot_id\"] = df_temp[\"lot_id\"].astype(str) + df_temp.groupby(\"lot_id\").cumcount().astype(str)\n",
    "    df_temp = df_temp.set_index('lot_id')\n",
    "    return df_temp\n",
    "\n",
    "X_exnir_train_spec = specimen_to_lot(X_exnir_train)\n",
    "X_visnir_train_spec = specimen_to_lot(X_visnir_train)\n",
    "y_train_spec = specimen_to_lot(y_train)\n",
    "y_train_og = specimen_to_lot(y_train_og)\n",
    "\n",
    "X_exnir_test_spec = specimen_to_lot(X_exnir_test)\n",
    "X_visnir_test_spec = specimen_to_lot(X_visnir_test)\n",
    "y_test_spec = specimen_to_lot(y_test)\n",
    "y_test_og = specimen_to_lot(y_test_og)\n",
    "\n",
    "print(X_exnir_train_spec.shape, X_visnir_train_spec.shape, y_train_spec.shape)\n",
    "print(X_exnir_test_spec.shape, X_visnir_test_spec.shape, y_test_spec.shape)"
   ]
  },
  {
   "cell_type": "code",
   "execution_count": 53,
   "metadata": {},
   "outputs": [
    {
     "data": {
      "text/plain": [
       "0      11\n",
       "5      12\n",
       "10     13\n",
       "20     12\n",
       "40     11\n",
       "100    12\n",
       "Name: Dwarf, dtype: int64"
      ]
     },
     "execution_count": 53,
     "metadata": {},
     "output_type": "execute_result"
    }
   ],
   "source": [
    "y_train_spec['Dwarf'].value_counts().sort_index()"
   ]
  },
  {
   "cell_type": "markdown",
   "metadata": {},
   "source": [
    "# Full Loop with dumps\n"
   ]
  },
  {
   "cell_type": "code",
   "execution_count": 95,
   "metadata": {},
   "outputs": [],
   "source": [
    "from pptoolbox.platform.utils import export_pi_df, initialize_pi_df\n",
    "\n",
    "# Export EVERYTHING, except images included as plotly html (silenced)\n",
    "# Dump metrics to folder\n",
    "output_dir = Path(\"../models/predictions_profile/time_split\")\n",
    "output_dir.mkdir(exist_ok=True, parents=True)"
   ]
  },
  {
   "cell_type": "code",
   "execution_count": 96,
   "metadata": {},
   "outputs": [],
   "source": [
    "y=y_train_spec\n",
    "X_visnir=X_visnir_train_spec\n",
    "X_exnir=X_exnir_train_spec"
   ]
  },
  {
   "cell_type": "code",
   "execution_count": 97,
   "metadata": {},
   "outputs": [
    {
     "name": "stdout",
     "output_type": "stream",
     "text": [
      "Dwarf\n",
      "100%|██████████| 200/200 [00:42<00:00,  4.70trial/s, best loss: 516.4557623096665]\n",
      " 77%|███████▋  | 154/200 [00:35<00:10,  4.32trial/s, best loss: 285.3359727537837]\n",
      " 91%|█████████ | 182/200 [00:41<00:04,  4.37trial/s, best loss: 253.4870772802969] \n"
     ]
    }
   ],
   "source": [
    "# this flow considers each column in y_DataFrame as regression labels\n",
    "# Will loop through each column and generate outputs for each\n",
    "\n",
    "# Will also generate a consolidated metrics file for each data type (visnir, exnir, meta)\n",
    "\n",
    "metrics_visnir = []\n",
    "metrics_exnir = []\n",
    "metrics_meta = []\n",
    "\n",
    "metrics_best = []\n",
    "\n",
    "for label in labels:\n",
    "    input_y = y[label]\n",
    "\n",
    "    print (label)\n",
    "\n",
    "    # Run visnir segment\n",
    "    trainer = initialise_trainer(task_type='profile', log=False)\n",
    "    trainer.fit(X_visnir, input_y, kfold=DEFAULT_CV)\n",
    "    score_visnir = trainer.get_best_performance()\n",
    "    best_visnir = trainer.get_pipeline()\n",
    "    base_visnir = [best_visnir]\n",
    "\n",
    "    metric_visnir = model_dump_regression(\n",
    "        trainer=trainer, \n",
    "        estimator=trainer.get_pipeline(), \n",
    "        y=input_y, output_dir=output_dir, suffix=\"_visnir\",\n",
    "    )\n",
    "    metrics_visnir.append(metric_visnir)\n",
    "\n",
    "    # dump_images_regression(\n",
    "    #     estimator=trainer.get_pipeline(), \n",
    "    #     X=X_visnir, \n",
    "    #     y=input_y, output_dir=output_dir, suffix=\"_visnir\",\n",
    "    # )\n",
    "\n",
    "    # Run exnir segment\n",
    "    trainer = initialise_trainer(task_type='profile', log=False)\n",
    "    trainer.fit(X_exnir, input_y, kfold=DEFAULT_CV)\n",
    "    score_exnir = trainer.get_best_performance()\n",
    "    best_exnir = trainer.get_pipeline()\n",
    "    base_exnir = [best_exnir]\n",
    "\n",
    "    metric_exnir = model_dump_regression(\n",
    "        trainer=trainer, \n",
    "        estimator=trainer.get_pipeline(), \n",
    "        y=input_y, output_dir=output_dir, suffix=\"_exnir\",\n",
    "    )\n",
    "    metrics_exnir.append(metric_exnir)\n",
    "\n",
    "    # dump_images_regression(\n",
    "    #     estimator=trainer.get_pipeline(), \n",
    "    #     X=X_exnir, \n",
    "    #     y=input_y, output_dir=output_dir, suffix=\"_exnir\",\n",
    "    # )\n",
    "\n",
    "    # Prepare dataset for metamodel segment\n",
    "    datasets = [X_visnir, X_exnir]\n",
    "    estimators = [base_visnir, base_exnir] \n",
    "    X_meta, y_meta, split_idx = create_meta_datasets_splits(\n",
    "        estimators=estimators, \n",
    "        datasets=datasets, \n",
    "        y=input_y, \n",
    "        groups=X_visnir.index, \n",
    "        outer_cv=DEFAULT_CV, \n",
    "        inner_cv=DEFAULT_CV,\n",
    "        mode='profile',\n",
    "    )\n",
    "\n",
    "    # Run metamodel segment\n",
    "    cv_meta = CustomMetaSplitter(split_idx = split_idx)\n",
    "    trainer = initialise_trainer(task_type='profile', log=False)\n",
    "    trainer.fit(X_meta, y_meta, kfold=cv_meta, search_space=META_REGRESSION_PIPELINES, groups=X_meta.index)\n",
    "    score_meta = trainer.get_best_performance()\n",
    "\n",
    "    X_meta_final = generate_metafeatures_profile(datasets, estimators, y=input_y)\n",
    "    best_meta = trainer.get_pipeline()\n",
    "    best_meta.fit(X_meta_final, input_y)\n",
    "\n",
    "    # Dump X_meta_final\n",
    "    pkl.dump(\n",
    "        X_meta_final, \n",
    "        open(os.path.join(output_dir, f\"X_meta_final_{label}.pkl\"), \"wb\")\n",
    "    )\n",
    "\n",
    "    metric_meta = model_dump_regression(\n",
    "        trainer=trainer, \n",
    "        estimator=trainer.get_pipeline(), \n",
    "        y=input_y, output_dir=output_dir, suffix=\"_meta\",\n",
    "    )\n",
    "    metrics_meta.append(metric_meta)\n",
    "\n",
    "    # dump_images_regression(\n",
    "    #     estimator=trainer.get_pipeline(), \n",
    "    #     X=X_meta_final, \n",
    "    #     y=input_y, output_dir=output_dir, suffix=\"_meta\",\n",
    "    # )\n",
    "\n",
    "    best_model = np.argmax(np.array([score_visnir, score_exnir, score_meta]))\n",
    "    # argmax, Most positive neg-MSE wins\n",
    "    metric_options = {\n",
    "        0: metric_visnir,\n",
    "        1: metric_exnir,\n",
    "        2: metric_meta,\n",
    "    }\n",
    "    metrics_best.append(metric_options[best_model])\n",
    "    continue\n",
    "\n",
    "# Export pi_df and common metrics for best models\n",
    "pi_df = initialize_pi_df(labels)\n",
    "export_pi_df(pi_df, output_dir)\n",
    "metrics_df = pd.DataFrame(metrics_best)\n",
    "metrics_df.to_csv(os.path.join(output_dir, \"metrics.csv\"), index=False) \n",
    "\n",
    "metrics_df = pd.DataFrame(metrics_visnir)\n",
    "metrics_df.to_csv(os.path.join(output_dir, \"metrics_visnir.csv\"), index=False)\n",
    "metrics_df = pd.DataFrame(metrics_exnir)\n",
    "metrics_df.to_csv(os.path.join(output_dir, \"metrics_exnir.csv\"), index=False)\n",
    "metrics_df = pd.DataFrame(metrics_meta)\n",
    "metrics_df.to_csv(os.path.join(output_dir, \"metrics_meta.csv\"), index=False)\n"
   ]
  },
  {
   "cell_type": "markdown",
   "metadata": {},
   "source": [
    "## extract metrics"
   ]
  },
  {
   "cell_type": "code",
   "execution_count": 98,
   "metadata": {},
   "outputs": [],
   "source": [
    "y=y_train_spec\n",
    "X_visnir=X_visnir_train_spec\n",
    "X_exnir=X_exnir_train_spec\n",
    "labels_df_og=y_train_og"
   ]
  },
  {
   "cell_type": "code",
   "execution_count": 99,
   "metadata": {},
   "outputs": [
    {
     "name": "stdout",
     "output_type": "stream",
     "text": [
      "Dwarf\n",
      "['exnir', 'meta', 'visnir']\n",
      "[-285.3359727537837, -253.4870772802969, -516.4557623096665]\n"
     ]
    },
    {
     "data": {
      "image/png": "[encoded data removed]",
      "text/plain": [
       "<Figure size 600x500 with 1 Axes>"
      ]
     },
     "metadata": {},
     "output_type": "display_data"
    }
   ],
   "source": [
    "for label in labels:\n",
    "\n",
    "    print(label)\n",
    "\n",
    "    list_of_pkl_files = glob.glob(f'../models/predictions_profile/time_split/trainer_{label}_*.pkl')\n",
    "    model_name = [re.search(r'_([^_]+)\\.pkl$', filename).group(1) for filename in list_of_pkl_files]\n",
    "    loaded_pkl = [pkl.load(open(file, 'rb')) for file in list_of_pkl_files]\n",
    "    print(model_name)\n",
    "    \n",
    "    metrics = [generate_regression_metrics(model,y[label]) for model in loaded_pkl]\n",
    "    pipelines = [model.get_pipeline() for model in loaded_pkl]\n",
    "    \n",
    "    performances = [model.get_best_performance() for model in loaded_pkl]\n",
    "    print(performances)\n",
    "    best_performance = np.argmax(np.array(performances)) # argmax, Most positive neg-MSE wins\n",
    "    # best_performance = 2 # for testing\n",
    "    \n",
    "    best_model =  {'name':model_name[best_performance], **metrics[best_performance]}\n",
    "    best_model_output =  json.dumps(best_model, indent=4)\n",
    "\n",
    "    X_meta_final = pkl.load(open(output_dir/f'X_meta_final_{label}.pkl', 'rb'))\n",
    "\n",
    "    dataset_options = {\n",
    "        'exnir': X_exnir,\n",
    "        'visnir': X_visnir,\n",
    "        'meta': X_meta_final, #meta dataset is generated inside training loop\n",
    "    }\n",
    "\n",
    "    predictions = pipelines[best_performance].predict(dataset_options[best_model['name']])\n",
    "\n",
    "    plt.figure(figsize=(6, 5))\n",
    "    sns.scatterplot(x=y[label], y=predictions, color='blue', alpha=0.5)\n",
    "    sns.regplot(x=y[label], y=predictions, scatter=False, color='blue', ci=None)\n",
    "    plt.plot([y[label].min()-y[label].max()*.1, y[label].max()+y[label].max()*.1], \n",
    "             [y[label].min()-y[label].max()*.1, y[label].max()+y[label].max()*.1], \n",
    "             color='black', linestyle='--')  # Reference line\n",
    "    plt.title(f'{label} | mae: {float(best_model[\"mae\"]):.2f} | pmae: {float(best_model[\"pmae\"]):.2f}%\\n{best_model[\"name\"]} | {best_model[\"model\"]}\\n*metrics are train cv, plot is .predict on trainset')\n",
    "    plt.xlabel(f'Actual')\n",
    "    plt.ylabel(f'Predicted')\n",
    "    plt.savefig(output_dir / f'prederror_{label}_best.png')\n",
    "\n",
    "    plt.show()\n",
    "    plt.close()"
   ]
  },
  {
   "cell_type": "code",
   "execution_count": 104,
   "metadata": {},
   "outputs": [
    {
     "data": {
      "text/html": [
       "<style>#sk-container-id-1 {color: black;}#sk-container-id-1 pre{padding: 0;}#sk-container-id-1 div.sk-toggleable {background-color: white;}#sk-container-id-1 label.sk-toggleable__label {cursor: pointer;display: block;width: 100%;margin-bottom: 0;padding: 0.3em;box-sizing: border-box;text-align: center;}#sk-container-id-1 label.sk-toggleable__label-arrow:before {content: \"▸\";float: left;margin-right: 0.25em;color: #696969;}#sk-container-id-1 label.sk-toggleable__label-arrow:hover:before {color: black;}#sk-container-id-1 div.sk-estimator:hover label.sk-toggleable__label-arrow:before {color: black;}#sk-container-id-1 div.sk-toggleable__content {max-height: 0;max-width: 0;overflow: hidden;text-align: left;background-color: #f0f8ff;}#sk-container-id-1 div.sk-toggleable__content pre {margin: 0.2em;color: black;border-radius: 0.25em;background-color: #f0f8ff;}#sk-container-id-1 input.sk-toggleable__control:checked~div.sk-toggleable__content {max-height: 200px;max-width: 100%;overflow: auto;}#sk-container-id-1 input.sk-toggleable__control:checked~label.sk-toggleable__label-arrow:before {content: \"▾\";}#sk-container-id-1 div.sk-estimator input.sk-toggleable__control:checked~label.sk-toggleable__label {background-color: #d4ebff;}#sk-container-id-1 div.sk-label input.sk-toggleable__control:checked~label.sk-toggleable__label {background-color: #d4ebff;}#sk-container-id-1 input.sk-hidden--visually {border: 0;clip: rect(1px 1px 1px 1px);clip: rect(1px, 1px, 1px, 1px);height: 1px;margin: -1px;overflow: hidden;padding: 0;position: absolute;width: 1px;}#sk-container-id-1 div.sk-estimator {font-family: monospace;background-color: #f0f8ff;border: 1px dotted black;border-radius: 0.25em;box-sizing: border-box;margin-bottom: 0.5em;}#sk-container-id-1 div.sk-estimator:hover {background-color: #d4ebff;}#sk-container-id-1 div.sk-parallel-item::after {content: \"\";width: 100%;border-bottom: 1px solid gray;flex-grow: 1;}#sk-container-id-1 div.sk-label:hover label.sk-toggleable__label {background-color: #d4ebff;}#sk-container-id-1 div.sk-serial::before {content: \"\";position: absolute;border-left: 1px solid gray;box-sizing: border-box;top: 0;bottom: 0;left: 50%;z-index: 0;}#sk-container-id-1 div.sk-serial {display: flex;flex-direction: column;align-items: center;background-color: white;padding-right: 0.2em;padding-left: 0.2em;position: relative;}#sk-container-id-1 div.sk-item {position: relative;z-index: 1;}#sk-container-id-1 div.sk-parallel {display: flex;align-items: stretch;justify-content: center;background-color: white;position: relative;}#sk-container-id-1 div.sk-item::before, #sk-container-id-1 div.sk-parallel-item::before {content: \"\";position: absolute;border-left: 1px solid gray;box-sizing: border-box;top: 0;bottom: 0;left: 50%;z-index: -1;}#sk-container-id-1 div.sk-parallel-item {display: flex;flex-direction: column;z-index: 1;position: relative;background-color: white;}#sk-container-id-1 div.sk-parallel-item:first-child::after {align-self: flex-end;width: 50%;}#sk-container-id-1 div.sk-parallel-item:last-child::after {align-self: flex-start;width: 50%;}#sk-container-id-1 div.sk-parallel-item:only-child::after {width: 0;}#sk-container-id-1 div.sk-dashed-wrapped {border: 1px dashed gray;margin: 0 0.4em 0.5em 0.4em;box-sizing: border-box;padding-bottom: 0.4em;background-color: white;}#sk-container-id-1 div.sk-label label {font-family: monospace;font-weight: bold;display: inline-block;line-height: 1.2em;}#sk-container-id-1 div.sk-label-container {text-align: center;}#sk-container-id-1 div.sk-container {/* jupyter's `normalize.less` sets `[hidden] { display: none; }` but bootstrap.min.css set `[hidden] { display: none !important; }` so we also need the `!important` here to be able to override the default hidden behavior on the sphinx rendered scikit-learn.org. See: https://github.com/scikit-learn/scikit-learn/issues/21755 */display: inline-block !important;position: relative;}#sk-container-id-1 div.sk-text-repr-fallback {display: none;}</style><div id=\"sk-container-id-1\" class=\"sk-top-container\"><div class=\"sk-text-repr-fallback\"><pre>Pipeline(steps=[(&#x27;BayesianRidge&#x27;,\n",
       "                 BayesianRidge(alpha_1=99441.75034868083,\n",
       "                               alpha_2=99441.75034868083,\n",
       "                               lambda_1=67490.32387831583,\n",
       "                               lambda_2=67490.32387831583))])</pre><b>In a Jupyter environment, please rerun this cell to show the HTML representation or trust the notebook. <br />On GitHub, the HTML representation is unable to render, please try loading this page with nbviewer.org.</b></div><div class=\"sk-container\" hidden><div class=\"sk-item sk-dashed-wrapped\"><div class=\"sk-label-container\"><div class=\"sk-label sk-toggleable\"><input class=\"sk-toggleable__control sk-hidden--visually\" id=\"sk-estimator-id-1\" type=\"checkbox\" ><label for=\"sk-estimator-id-1\" class=\"sk-toggleable__label sk-toggleable__label-arrow\">Pipeline</label><div class=\"sk-toggleable__content\"><pre>Pipeline(steps=[(&#x27;BayesianRidge&#x27;,\n",
       "                 BayesianRidge(alpha_1=99441.75034868083,\n",
       "                               alpha_2=99441.75034868083,\n",
       "                               lambda_1=67490.32387831583,\n",
       "                               lambda_2=67490.32387831583))])</pre></div></div></div><div class=\"sk-serial\"><div class=\"sk-item\"><div class=\"sk-estimator sk-toggleable\"><input class=\"sk-toggleable__control sk-hidden--visually\" id=\"sk-estimator-id-2\" type=\"checkbox\" ><label for=\"sk-estimator-id-2\" class=\"sk-toggleable__label sk-toggleable__label-arrow\">BayesianRidge</label><div class=\"sk-toggleable__content\"><pre>BayesianRidge(alpha_1=99441.75034868083, alpha_2=99441.75034868083,\n",
       "              lambda_1=67490.32387831583, lambda_2=67490.32387831583)</pre></div></div></div></div></div></div></div>"
      ],
      "text/plain": [
       "Pipeline(steps=[('BayesianRidge',\n",
       "                 BayesianRidge(alpha_1=99441.75034868083,\n",
       "                               alpha_2=99441.75034868083,\n",
       "                               lambda_1=67490.32387831583,\n",
       "                               lambda_2=67490.32387831583))])"
      ]
     },
     "execution_count": 104,
     "metadata": {},
     "output_type": "execute_result"
    }
   ],
   "source": [
    "pipelines[1]"
   ]
  },
  {
   "cell_type": "markdown",
   "metadata": {},
   "source": [
    "# predict blinds"
   ]
  },
  {
   "cell_type": "code",
   "execution_count": 102,
   "metadata": {},
   "outputs": [
    {
     "name": "stdout",
     "output_type": "stream",
     "text": [
      "(7, 6) (28, 191) (28, 89) (7, 7)\n"
     ]
    }
   ],
   "source": [
    "y=y_test\n",
    "X_visnir=X_visnir_test\n",
    "X_exnir=X_exnir_test\n",
    "labels_df_og=y_test_og\n",
    "\n",
    "# predict lot level\n",
    "y=y.reset_index().drop_duplicates().set_index('lot_id')\n",
    "labels_df_og=labels_df_og.drop_duplicates().set_index('lot_id')\n",
    "print(y.shape, X_visnir.shape, X_exnir.shape, labels_df_og.shape)"
   ]
  },
  {
   "cell_type": "code",
   "execution_count": 103,
   "metadata": {},
   "outputs": [
    {
     "name": "stdout",
     "output_type": "stream",
     "text": [
      "Dwarf\n",
      "['exnir', 'meta', 'visnir']\n",
      "[-285.3359727537837, -253.4870772802969, -516.4557623096665]\n",
      "best pipeline is meta\n",
      "meta workflow\n"
     ]
    },
    {
     "data": {
      "image/png": "[encoded data removed]",
      "text/plain": [
       "<Figure size 600x500 with 1 Axes>"
      ]
     },
     "metadata": {},
     "output_type": "display_data"
    }
   ],
   "source": [
    "for label in labels:\n",
    "    print(label)\n",
    "\n",
    "    output_dir = Path(f\"../models/predictions_profile/time_split\")\n",
    "    output_dir.mkdir(exist_ok=True, parents=True)\n",
    "\n",
    "    # y[label] = y[label].groupby(y.index).mean()\n",
    "    # y[label] = y[label]\n",
    "    # y_list = list(y[label])\n",
    "\n",
    "    list_of_pkl_files = glob.glob(f'../models/predictions_profile/time_split/trainer_{label}_*.pkl')\n",
    "    model_name = [re.search(r'_([^_]+)\\.pkl$', filename).group(1) for filename in list_of_pkl_files]\n",
    "    loaded_pkl = [pkl.load(open(file, 'rb')) for file in list_of_pkl_files]\n",
    "    print(model_name)\n",
    "\n",
    "    metrics = [generate_regression_metrics(model,y[label]) for model in loaded_pkl]\n",
    "    pipelines = [model.get_pipeline() for model in loaded_pkl]\n",
    "    pipeline_exnir = pipelines[0] #hardcoded\n",
    "    pipeline_visnir = pipelines[2] #hardcoded\n",
    "    \n",
    "    performances = [model.get_best_performance() for model in loaded_pkl]\n",
    "    print(performances)\n",
    "    best_performance = np.argmax(np.array(performances)) # argmax, Most positive neg-MSE wins\n",
    "    # best_performance = 2 # for testing\n",
    "    \n",
    "    best_model =  {'name':model_name[best_performance], **metrics[best_performance]}\n",
    "    # best_model_output =  json.dumps(best_model, indent=4)\n",
    "    print(f\"best pipeline is {best_model['name']}\")\n",
    "\n",
    "    if best_model['name'] != 'meta':\n",
    "        print(\"non-meta workflow\")\n",
    "\n",
    "        dataset_options = {\n",
    "            'exnir': X_exnir,\n",
    "            'visnir': X_visnir\n",
    "        }\n",
    "\n",
    "        X_input = dataset_options[best_model['name']]\n",
    "        X_input = X_input.groupby(X_input.index).mean()\n",
    "\n",
    "        predictions = pipelines[best_performance].predict(X_input)\n",
    "\n",
    "    else:\n",
    "        # metamodel flow\n",
    "        print(\"meta workflow\")\n",
    "              \n",
    "        n_classes = 1\n",
    "        X_meta = pd.DataFrame(0, index=X_visnir.index, columns=pd.RangeIndex(2*n_classes))\n",
    "        X_meta.loc[:, np.arange(n_classes)] = pipeline_visnir.predict(X_visnir)\n",
    "        X_meta.loc[:, np.arange(n_classes)+n_classes] = pipeline_exnir.predict(X_exnir)\n",
    "\n",
    "        pkl_path = os.path.join(output_dir, f\"tasteprofile_model_{label}_meta.pkl\")\n",
    "        with open(pkl_path, \"rb\") as f:\n",
    "            pipeline_meta = load_pf_legacy_models(f)\n",
    "        predictions = regression_predict(pipeline_meta, X_meta).iloc[:, 0]\n",
    "\n",
    "    blinds_MAE = np.mean(np.abs(y[label].values - predictions))\n",
    "    blinds_pMAE = (blinds_MAE * 100) / abs(y[label].max()-y[label].min()) \n",
    "\n",
    "    plt.figure(figsize=(6, 5))\n",
    "    sns.scatterplot(x=y[label], y=predictions, color='blue', alpha=0.5)\n",
    "    plt.plot([y[label].min()-y[label].max()*.1, y[label].max()+y[label].max()*.1], \n",
    "             [y[label].min()-y[label].max()*.1, y[label].max()+y[label].max()*.1], \n",
    "             color='black', linestyle='--')  # Reference line\n",
    "\n",
    "    plt.title(f'{label} | mae: {blinds_MAE:.2f} | pmae: {blinds_pMAE:.2f}%\\n{best_model[\"model\"]}')\n",
    "    plt.xlabel(f'Actual')\n",
    "    plt.ylabel(f'Predicted')\n",
    "    plt.tight_layout()\n",
    "    plt.savefig(output_dir / f'prederror_{label}_blind.png')\n",
    "\n",
    "    plt.show()\n",
    "    plt.close()"
   ]
  },
  {
   "cell_type": "markdown",
   "metadata": {},
   "source": [
    "# Training single"
   ]
  },
  {
   "cell_type": "code",
   "execution_count": null,
   "metadata": {},
   "outputs": [],
   "source": [
    "# label = list(y.columns)[0]\n",
    "# input_y = y[label] # Show example for single column only"
   ]
  },
  {
   "cell_type": "code",
   "execution_count": null,
   "metadata": {},
   "outputs": [],
   "source": [
    "# Run visnir segment\n",
    "trainer = initialise_trainer(task_type='profile', log=False)\n",
    "trainer.fit(X_visnir, input_y, kfold=DEFAULT_CV)\n",
    "score_visnir = trainer.get_best_performance()\n",
    "best_visnir = trainer.get_pipeline()\n",
    "metrics_visnir = generate_regression_metrics(trainer, input_y)\n",
    "trainer_visnir = trainer\n",
    "base_visnir = [best_visnir]"
   ]
  },
  {
   "cell_type": "code",
   "execution_count": null,
   "metadata": {},
   "outputs": [],
   "source": [
    "# Run exnir segment\n",
    "trainer = initialise_trainer(task_type='profile', log=False)\n",
    "trainer.fit(X_exnir, input_y, kfold=DEFAULT_CV)\n",
    "score_exnir = trainer.get_best_performance()\n",
    "best_exnir = trainer.get_pipeline()\n",
    "metrics_exnir = generate_regression_metrics(trainer, input_y)\n",
    "trainer_exnir = trainer\n",
    "base_exnir = [best_exnir]"
   ]
  },
  {
   "cell_type": "code",
   "execution_count": null,
   "metadata": {},
   "outputs": [],
   "source": [
    "# Prepare dataset for metamodel segment\n",
    "datasets = [X_visnir, X_exnir]\n",
    "estimators = [base_visnir, base_exnir] \n",
    "X_meta, y_meta, split_idx = create_meta_datasets_splits(\n",
    "    estimators=estimators, \n",
    "    datasets=datasets, \n",
    "    y=input_y, \n",
    "    groups=X_visnir.index, \n",
    "    outer_cv=DEFAULT_CV, \n",
    "    inner_cv=DEFAULT_CV,\n",
    "    mode='profile',\n",
    ")\n",
    "\n",
    "# Run metamodel segment\n",
    "cv_meta = CustomMetaSplitter(split_idx = split_idx)\n",
    "trainer = initialise_trainer(task_type='profile', log=False)\n",
    "trainer.fit(X_meta, y_meta, kfold=cv_meta, search_space=META_REGRESSION_PIPELINES, groups=X_meta.index)\n",
    "score_meta = trainer.get_best_performance()\n",
    "metrics_meta = generate_regression_metrics(trainer, input_y)\n",
    "\n",
    "X_meta_final = generate_metafeatures_profile(datasets, estimators, y=input_y)\n",
    "best_meta = trainer.get_pipeline()\n",
    "best_meta.fit(X_meta_final, input_y)\n",
    "trainer_meta = trainer\n",
    "print(\"Done\")"
   ]
  },
  {
   "cell_type": "code",
   "execution_count": null,
   "metadata": {},
   "outputs": [],
   "source": [
    "# Review metrics without dumping\n",
    "import pprint\n",
    "print(score_visnir, score_exnir, score_meta)\n",
    "\n",
    "print()\n",
    "print('visnir')\n",
    "pprint.pprint(metrics_visnir)\n",
    "\n",
    "print()\n",
    "print('exnir')\n",
    "pprint.pprint(metrics_exnir)\n",
    "\n",
    "print()\n",
    "print('metamodel')\n",
    "pprint.pprint(metrics_meta)\n",
    "\n"
   ]
  },
  {
   "cell_type": "code",
   "execution_count": null,
   "metadata": {},
   "outputs": [],
   "source": [
    "fig1, fig2 = get_reg_figures(\n",
    "    model=best_visnir,\n",
    "    Xtrain=X_visnir,\n",
    "    ytrain=input_y,\n",
    "    test=False,\n",
    ")\n",
    "\n",
    "# Prediction error fig (Actual vs Predicted)\n",
    "fig1.update_layout(title='visnir')\n",
    "fig1.show()\n",
    "\n",
    "# Residuals fig\n",
    "fig2.update_layout(title='visnir')\n",
    "fig2.show()"
   ]
  },
  {
   "cell_type": "code",
   "execution_count": null,
   "metadata": {},
   "outputs": [],
   "source": [
    "fig1, fig2 = get_reg_figures(\n",
    "    model=best_exnir,\n",
    "    Xtrain=X_exnir,\n",
    "    ytrain=input_y,\n",
    "    test=False,\n",
    ")\n",
    "\n",
    "# Prediction error fig (Actual vs Predicted)\n",
    "fig1.update_layout(title='exnir')\n",
    "fig1.show()\n",
    "\n",
    "# Residuals fig\n",
    "fig2.update_layout(title='exnir')\n",
    "fig2.show()"
   ]
  },
  {
   "cell_type": "code",
   "execution_count": null,
   "metadata": {},
   "outputs": [],
   "source": [
    "fig1, fig2 = get_reg_figures(\n",
    "    model=best_meta,\n",
    "    Xtrain=X_meta_final,\n",
    "    ytrain=input_y,\n",
    "    test=False,\n",
    ")\n",
    "\n",
    "# Prediction error fig (Actual vs Predicted)\n",
    "fig1.update_layout(title='meta')\n",
    "fig1.show()\n",
    "\n",
    "# Residuals fig\n",
    "fig2.update_layout(title='meta')\n",
    "fig2.show()\n"
   ]
  },
  {
   "cell_type": "code",
   "execution_count": null,
   "metadata": {},
   "outputs": [],
   "source": [
    "# Export Single\n",
    "# Dump metrics to folder\n",
    "output_dir = Path(\"../tests/testdata/predictions_profile/\")\n",
    "output_dir.mkdir(exist_ok=True, parents=True)\n",
    "\n",
    "_ = model_dump_regression(\n",
    "    trainer=trainer_visnir, \n",
    "    estimator=best_visnir, \n",
    "    y=input_y, output_dir=output_dir, suffix=\"_visnir\",\n",
    ")\n",
    "\n",
    "_ = model_dump_regression(\n",
    "    trainer=trainer_exnir, \n",
    "    estimator=best_exnir, \n",
    "    y=input_y, output_dir=output_dir, suffix=\"_exnir\",\n",
    ")\n",
    "\n",
    "_ = model_dump_regression(\n",
    "    trainer=trainer_meta, \n",
    "    estimator=best_meta, \n",
    "    y=input_y, output_dir=output_dir, suffix=\"_meta\",\n",
    ")"
   ]
  }
 ],
 "metadata": {
  "kernelspec": {
   "display_name": "testing",
   "language": "python",
   "name": "python3"
  },
  "language_info": {
   "codemirror_mode": {
    "name": "ipython",
    "version": 3
   },
   "file_extension": ".py",
   "mimetype": "text/x-python",
   "name": "python",
   "nbconvert_exporter": "python",
   "pygments_lexer": "ipython3",
   "version": "3.10.15"
  }
 },
 "nbformat": 4,
 "nbformat_minor": 2
}
