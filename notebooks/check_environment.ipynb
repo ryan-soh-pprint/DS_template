{
 "cells": [
  {
   "cell_type": "code",
   "execution_count": 2,
   "id": "1f305675",
   "metadata": {},
   "outputs": [],
   "source": [
    "#i want to compare the packages installed in this environement with the pacakges in the requirements.txt file\n",
    "\n",
    "\n",
    "import pkg_resources\n",
    "from typing import List, Tuple\n",
    "\n",
    "def get_installed_packages() -> List[str]:\n",
    "    \"\"\"\n",
    "    Get a list of installed packages in the current environment.\n",
    "    \"\"\"\n",
    "    installed_packages = pkg_resources.working_set\n",
    "    return sorted([f\"{i.key}=={i.version}\" for i in installed_packages])\n",
    "\n",
    "def get_requirements_from_file(requirements_file: str) -> List[str]:\n",
    "    \"\"\"\n",
    "    Get a list of packages from the requirements.txt file.\n",
    "    \"\"\"\n",
    "    with open(requirements_file, 'r') as f:\n",
    "        return sorted([line.strip() for line in f if line.strip() and not line.startswith('#')])\n",
    "\n",
    "def compare_packages(installed_packages: List[str], requirements_packages: List[str]) -> Tuple[List[str], List[str]]:\n",
    "    \"\"\"\n",
    "    Compare installed packages with the requirements.txt file.\n",
    "    Return a tuple of (missing_packages, extra_packages).\n",
    "    \"\"\"\n",
    "    missing_packages = [pkg for pkg in requirements_packages if pkg not in installed_packages]\n",
    "    extra_packages = [pkg for pkg in installed_packages if pkg not in requirements_packages]\n",
    "    return missing_packages, extra_packages\n"
   ]
  },
  {
   "cell_type": "code",
   "execution_count": 4,
   "id": "761ff1a6",
   "metadata": {},
   "outputs": [],
   "source": [
    "missing, extra = compare_packages(get_installed_packages(), get_requirements_from_file('../requirements.txt'))"
   ]
  },
  {
   "cell_type": "code",
   "execution_count": 5,
   "id": "b7f54f61",
   "metadata": {},
   "outputs": [
    {
     "data": {
      "text/plain": [
       "['dvc==3.55.2', 'pandas==1.5', 'scikit_learn==1.3.0']"
      ]
     },
     "execution_count": 5,
     "metadata": {},
     "output_type": "execute_result"
    }
   ],
   "source": [
    "missing"
   ]
  },
  {
   "cell_type": "code",
   "execution_count": 9,
   "id": "41c902fc",
   "metadata": {},
   "outputs": [
    {
     "name": "stdout",
     "output_type": "stream",
     "text": [
      "3.59.2\n"
     ]
    }
   ],
   "source": [
    "import dvc\n",
    "print(dvc.__version__)"
   ]
  },
  {
   "cell_type": "code",
   "execution_count": 6,
   "id": "bcc3b246",
   "metadata": {},
   "outputs": [
    {
     "name": "stdout",
     "output_type": "stream",
     "text": [
      "1.5.0\n"
     ]
    }
   ],
   "source": [
    "# what is my pandas current version\n",
    "import pandas as pd\n",
    "print(pd.__version__)"
   ]
  }
 ],
 "metadata": {
  "kernelspec": {
   "display_name": "latest",
   "language": "python",
   "name": "python3"
  },
  "language_info": {
   "codemirror_mode": {
    "name": "ipython",
    "version": 3
   },
   "file_extension": ".py",
   "mimetype": "text/x-python",
   "name": "python",
   "nbconvert_exporter": "python",
   "pygments_lexer": "ipython3",
   "version": "3.10.16"
  }
 },
 "nbformat": 4,
 "nbformat_minor": 5
}
